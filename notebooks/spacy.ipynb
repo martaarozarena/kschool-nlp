{
 "cells": [
  {
   "cell_type": "code",
   "execution_count": null,
   "metadata": {
    "Collapsed": "false"
   },
   "outputs": [],
   "source": [
    "# install the requirements\n",
    "# !pip install spacy\n",
    "# !python -m spacy download es_core_news_md\n",
    "# !python -m spacy download en_core_web_md"
   ]
  },
  {
   "cell_type": "markdown",
   "metadata": {
    "Collapsed": "false"
   },
   "source": [
    "# `spacy`: el *Ruby on Rails* del PLN\n",
    "\n",
    "[spacy](http://www.spacy.io/) es una librería de procesamiento del lenguaje natural, robusta, rápida, fácil de instalar y utilizar e integrable con [otras librerías de *NLP* y de *deep learning*](https://spacy.io/usage/facts-figures#section-other-libraries). \n",
    "\n",
    "Tiene modelos entrenados en varios idiomas y permite realizar las [típicas tareas](https://spacy.io/usage/facts-figures) de segmentación por oraciones, tokenizanción, análisis morfológico, extracción de entidades y análisis de opinión."
   ]
  },
  {
   "cell_type": "markdown",
   "metadata": {
    "Collapsed": "false"
   },
   "source": [
    "Una vez instalados los modelos, podemos importarlos fácilmente:"
   ]
  },
  {
   "cell_type": "code",
   "execution_count": 1,
   "metadata": {
    "Collapsed": "false"
   },
   "outputs": [],
   "source": [
    "import spacy\n",
    "\n",
    "# cargamos el modelo entrenado en español\n",
    "nlp = spacy.load(\"es_core_news_md\")"
   ]
  },
  {
   "cell_type": "code",
   "execution_count": 2,
   "metadata": {
    "Collapsed": "false"
   },
   "outputs": [],
   "source": [
    "texto = \"\"\"España incumple la regla del déficit del euro y queda como único país bajo el control de Bruselas. \n",
    "España no aprobará finalmente la regla europa del déficit y se quedará como único país de la Eurozona que \n",
    "suspende y sigue bajo vigilancia. El Gobierno se salta finalmente el requisito de saneamiento presupuestario \n",
    "del Tratado de Maastricht y obtiene así más margen de gasto en 2018.\"\"\"\n",
    "\n",
    "# y procesamos el texto\n",
    "doc = nlp(texto)"
   ]
  },
  {
   "cell_type": "markdown",
   "metadata": {
    "Collapsed": "false"
   },
   "source": [
    "## Procesando oraciones, palabras y entidades\n",
    "\n",
    "Podemos iterar fácilmente sobre la lista de oraciones y recorrer los tokens para acceder a su información morfo-sintáctica:"
   ]
  },
  {
   "cell_type": "code",
   "execution_count": 3,
   "metadata": {
    "Collapsed": "false"
   },
   "outputs": [
    {
     "name": "stdout",
     "output_type": "stream",
     "text": [
      "Oración: España incumple la regla del déficit del euro y queda como único país bajo el control de Bruselas. \n",
      "\n",
      "España/España => etiqueta PROPN/PROPN___ y dependencia nsubj\n",
      "incumple/incumplir => etiqueta VERB/VERB__Mood=Ind|Number=Sing|Person=3|Tense=Pres|VerbForm=Fin y dependencia ROOT\n",
      "la/lo => etiqueta DET/DET__Definite=Def|Gender=Fem|Number=Sing|PronType=Art y dependencia det\n",
      "regla/reglar => etiqueta NOUN/NOUN__Gender=Fem|Number=Sing y dependencia obj\n",
      "del/del => etiqueta ADP/ADP__AdpType=Preppron|Gender=Masc|Number=Sing y dependencia case\n",
      "déficit/déficit => etiqueta NOUN/NOUN__Gender=Masc|Number=Sing y dependencia nmod\n",
      "del/del => etiqueta ADP/ADP__AdpType=Preppron|Gender=Masc|Number=Sing y dependencia case\n",
      "euro/euro => etiqueta NOUN/NOUN__Gender=Masc|Number=Sing y dependencia nmod\n",
      "y/y => etiqueta CONJ/CCONJ___ y dependencia cc\n",
      "queda/quedo => etiqueta VERB/VERB__Mood=Ind|Number=Sing|Person=3|Tense=Pres|VerbForm=Fin y dependencia conj\n",
      "como/comer => etiqueta SCONJ/SCONJ___ y dependencia mark\n",
      "único/único => etiqueta ADJ/ADJ__Gender=Masc|Number=Sing y dependencia amod\n",
      "país/país => etiqueta NOUN/NOUN__Gender=Masc|Number=Sing y dependencia obj\n",
      "bajo/bajar => etiqueta ADP/ADP__AdpType=Prep y dependencia case\n",
      "el/el => etiqueta DET/DET__Definite=Def|Gender=Masc|Number=Sing|PronType=Art y dependencia det\n",
      "control/control => etiqueta NOUN/NOUN__Gender=Masc|Number=Sing y dependencia obl\n",
      "de/de => etiqueta ADP/ADP__AdpType=Prep y dependencia case\n",
      "Bruselas/Bruselas => etiqueta PROPN/PROPN___ y dependencia nmod\n",
      "./. => etiqueta PUNCT/PUNCT__PunctType=Peri y dependencia punct\n",
      "\n",
      "/\n",
      " => etiqueta SPACE/_SP y dependencia \n",
      "Oración: España no aprobará finalmente la regla europa del déficit y se quedará como único país de la Eurozona que \n",
      "suspende y sigue bajo vigilancia.\n",
      "España/España => etiqueta PROPN/PROPN___ y dependencia nsubj\n",
      "no/no => etiqueta ADV/ADV__Polarity=Neg y dependencia advmod\n",
      "aprobará/aprobar => etiqueta VERB/VERB__Mood=Ind|Number=Sing|Person=3|Tense=Fut|VerbForm=Fin y dependencia ROOT\n",
      "finalmente/finalmente => etiqueta ADV/ADV___ y dependencia advmod\n",
      "la/lo => etiqueta DET/DET__Definite=Def|Gender=Fem|Number=Sing|PronType=Art y dependencia det\n",
      "regla/reglar => etiqueta NOUN/NOUN__Gender=Fem|Number=Sing y dependencia obj\n",
      "europa/europa => etiqueta PROPN/PROPN___ y dependencia appos\n",
      "del/del => etiqueta ADP/ADP__AdpType=Preppron|Gender=Masc|Number=Sing y dependencia case\n",
      "déficit/déficit => etiqueta NOUN/NOUN__Gender=Masc|Number=Sing y dependencia nmod\n",
      "y/y => etiqueta CONJ/CCONJ___ y dependencia cc\n",
      "se/se => etiqueta PRON/PRON__Person=3 y dependencia obj\n",
      "quedará/quedar => etiqueta VERB/VERB__Mood=Ind|Number=Sing|Person=3|Tense=Fut|VerbForm=Fin y dependencia conj\n",
      "como/comer => etiqueta SCONJ/SCONJ___ y dependencia mark\n",
      "único/único => etiqueta ADJ/ADJ__Gender=Masc|Number=Sing y dependencia amod\n",
      "país/país => etiqueta NOUN/NOUN__Gender=Masc|Number=Sing y dependencia obl\n",
      "de/de => etiqueta ADP/ADP__AdpType=Prep y dependencia case\n",
      "la/lo => etiqueta DET/DET__Definite=Def|Gender=Fem|Number=Sing|PronType=Art y dependencia det\n",
      "Eurozona/Eurozona => etiqueta PROPN/PROPN___ y dependencia nmod\n",
      "que/que => etiqueta SCONJ/SCONJ___ y dependencia obj\n",
      "\n",
      "/\n",
      " => etiqueta SPACE/_SP y dependencia \n",
      "suspende/suspender => etiqueta VERB/VERB__Mood=Ind|Number=Sing|Person=3|Tense=Pres|VerbForm=Fin y dependencia acl\n",
      "y/y => etiqueta CONJ/CCONJ___ y dependencia cc\n",
      "sigue/seguir => etiqueta VERB/VERB__Mood=Ind|Number=Sing|Person=3|Tense=Pres|VerbForm=Fin y dependencia conj\n",
      "bajo/bajar => etiqueta ADP/ADP__AdpType=Prep y dependencia case\n",
      "vigilancia/vigilancia => etiqueta NOUN/NOUN__Gender=Fem|Number=Sing y dependencia obl\n",
      "./. => etiqueta PUNCT/PUNCT__PunctType=Peri y dependencia punct\n",
      "Oración: El Gobierno se salta finalmente el requisito de saneamiento presupuestario \n",
      "del Tratado de Maastricht y obtiene así más margen de gasto en 2018.\n",
      "El/El => etiqueta DET/DET__Definite=Def|Gender=Masc|Number=Sing|PronType=Art y dependencia det\n",
      "Gobierno/Gobierno => etiqueta PROPN/PROPN___ y dependencia nsubj\n",
      "se/se => etiqueta PRON/PRON__Person=3 y dependencia obj\n",
      "salta/saltar => etiqueta VERB/VERB__Mood=Ind|Number=Sing|Person=3|Tense=Pres|VerbForm=Fin y dependencia ROOT\n",
      "finalmente/finalmente => etiqueta ADV/ADV___ y dependencia advmod\n",
      "el/el => etiqueta DET/DET__Definite=Def|Gender=Masc|Number=Sing|PronType=Art y dependencia det\n",
      "requisito/requerir => etiqueta NOUN/NOUN__Gender=Masc|Number=Sing y dependencia obj\n",
      "de/de => etiqueta ADP/ADP__AdpType=Prep y dependencia case\n",
      "saneamiento/saneamiento => etiqueta NOUN/NOUN__Gender=Masc|Number=Sing y dependencia nmod\n",
      "presupuestario/presupuestario => etiqueta ADJ/ADJ__Gender=Masc|Number=Sing y dependencia amod\n",
      "\n",
      "/\n",
      " => etiqueta SPACE/_SP y dependencia \n",
      "del/del => etiqueta ADP/ADP__AdpType=Preppron|Gender=Masc|Number=Sing y dependencia case\n",
      "Tratado/Tratado => etiqueta PROPN/PROPN___ y dependencia nmod\n",
      "de/de => etiqueta ADP/ADP__AdpType=Prep y dependencia case\n",
      "Maastricht/Maastricht => etiqueta PROPN/PROPN___ y dependencia flat\n",
      "y/y => etiqueta CONJ/CCONJ___ y dependencia cc\n",
      "obtiene/obtener => etiqueta VERB/VERB__Mood=Ind|Number=Sing|Person=3|Tense=Pres|VerbForm=Fin y dependencia conj\n",
      "así/asir => etiqueta ADV/ADV___ y dependencia advmod\n",
      "más/más => etiqueta ADV/ADV___ y dependencia advmod\n",
      "margen/margen => etiqueta NOUN/NOUN__Number=Sing y dependencia obj\n",
      "de/de => etiqueta ADP/ADP__AdpType=Prep y dependencia case\n",
      "gasto/gastar => etiqueta NOUN/NOUN__Gender=Masc|Number=Sing y dependencia nmod\n",
      "en/en => etiqueta ADP/ADP__AdpType=Prep y dependencia case\n",
      "2018/2018 => etiqueta NOUN/NOUN__AdvType=Tim y dependencia obl\n",
      "./. => etiqueta PUNCT/PUNCT__PunctType=Peri y dependencia punct\n"
     ]
    }
   ],
   "source": [
    "for sentence in doc.sents:\n",
    "    print(\"Oración: {}\".format(sentence))\n",
    "    for token in sentence:\n",
    "        print(\n",
    "            \"{}/{} => etiqueta {}/{} y dependencia {}\".format(\n",
    "                token, token.lemma_, token.pos_, token.tag_, token.dep_\n",
    "            )\n",
    "        )"
   ]
  },
  {
   "cell_type": "markdown",
   "metadata": {
    "Collapsed": "false"
   },
   "source": [
    "El elemeno `doc` tiene una propiedad `.ents` que permite acceder a las entidades nombradas que hayan sido localizadas:"
   ]
  },
  {
   "cell_type": "code",
   "execution_count": 4,
   "metadata": {
    "Collapsed": "false"
   },
   "outputs": [
    {
     "name": "stdout",
     "output_type": "stream",
     "text": [
      "(Bruselas, España, Eurozona, El Gobierno, Tratado de Maastricht)\n",
      "Bruselas es de tipo LOC\n",
      "España es de tipo PER\n",
      "Eurozona es de tipo LOC\n",
      "El Gobierno es de tipo MISC\n",
      "Tratado de Maastricht es de tipo MISC\n"
     ]
    }
   ],
   "source": [
    "print(doc.ents)\n",
    "\n",
    "for entity in doc.ents:\n",
    "    print(\"{} es de tipo {}\".format(entity, entity.label_))"
   ]
  },
  {
   "cell_type": "markdown",
   "metadata": {
    "Collapsed": "false"
   },
   "source": [
    "## Visualizando árboles de dependencias y entidades\n",
    "\n",
    "Podemos acceder al árbol completo a través del método `.to_json()`:"
   ]
  },
  {
   "cell_type": "code",
   "execution_count": 5,
   "metadata": {
    "Collapsed": "false"
   },
   "outputs": [
    {
     "data": {
      "text/plain": [
       "{'text': 'España incumple la regla del déficit del euro y queda como único país bajo el control de Bruselas. \\nEspaña no aprobará finalmente la regla europa del déficit y se quedará como único país de la Eurozona que \\nsuspende y sigue bajo vigilancia. El Gobierno se salta finalmente el requisito de saneamiento presupuestario \\ndel Tratado de Maastricht y obtiene así más margen de gasto en 2018.',\n",
       " 'ents': [{'start': 89, 'end': 97, 'label': 'LOC'},\n",
       "  {'start': 100, 'end': 106, 'label': 'PER'},\n",
       "  {'start': 193, 'end': 201, 'label': 'LOC'},\n",
       "  {'start': 241, 'end': 252, 'label': 'MISC'},\n",
       "  {'start': 321, 'end': 342, 'label': 'MISC'}],\n",
       " 'sents': [{'start': 0, 'end': 100},\n",
       "  {'start': 100, 'end': 240},\n",
       "  {'start': 241, 'end': 385}],\n",
       " 'tokens': [{'id': 0,\n",
       "   'start': 0,\n",
       "   'end': 6,\n",
       "   'pos': 'PROPN',\n",
       "   'tag': 'PROPN___',\n",
       "   'dep': 'nsubj',\n",
       "   'head': 1},\n",
       "  {'id': 1,\n",
       "   'start': 7,\n",
       "   'end': 15,\n",
       "   'pos': 'VERB',\n",
       "   'tag': 'VERB__Mood=Ind|Number=Sing|Person=3|Tense=Pres|VerbForm=Fin',\n",
       "   'dep': 'ROOT',\n",
       "   'head': 1},\n",
       "  {'id': 2,\n",
       "   'start': 16,\n",
       "   'end': 18,\n",
       "   'pos': 'DET',\n",
       "   'tag': 'DET__Definite=Def|Gender=Fem|Number=Sing|PronType=Art',\n",
       "   'dep': 'det',\n",
       "   'head': 3},\n",
       "  {'id': 3,\n",
       "   'start': 19,\n",
       "   'end': 24,\n",
       "   'pos': 'NOUN',\n",
       "   'tag': 'NOUN__Gender=Fem|Number=Sing',\n",
       "   'dep': 'obj',\n",
       "   'head': 1},\n",
       "  {'id': 4,\n",
       "   'start': 25,\n",
       "   'end': 28,\n",
       "   'pos': 'ADP',\n",
       "   'tag': 'ADP__AdpType=Preppron|Gender=Masc|Number=Sing',\n",
       "   'dep': 'case',\n",
       "   'head': 5},\n",
       "  {'id': 5,\n",
       "   'start': 29,\n",
       "   'end': 36,\n",
       "   'pos': 'NOUN',\n",
       "   'tag': 'NOUN__Gender=Masc|Number=Sing',\n",
       "   'dep': 'nmod',\n",
       "   'head': 3},\n",
       "  {'id': 6,\n",
       "   'start': 37,\n",
       "   'end': 40,\n",
       "   'pos': 'ADP',\n",
       "   'tag': 'ADP__AdpType=Preppron|Gender=Masc|Number=Sing',\n",
       "   'dep': 'case',\n",
       "   'head': 7},\n",
       "  {'id': 7,\n",
       "   'start': 41,\n",
       "   'end': 45,\n",
       "   'pos': 'NOUN',\n",
       "   'tag': 'NOUN__Gender=Masc|Number=Sing',\n",
       "   'dep': 'nmod',\n",
       "   'head': 5},\n",
       "  {'id': 8,\n",
       "   'start': 46,\n",
       "   'end': 47,\n",
       "   'pos': 'CONJ',\n",
       "   'tag': 'CCONJ___',\n",
       "   'dep': 'cc',\n",
       "   'head': 9},\n",
       "  {'id': 9,\n",
       "   'start': 48,\n",
       "   'end': 53,\n",
       "   'pos': 'VERB',\n",
       "   'tag': 'VERB__Mood=Ind|Number=Sing|Person=3|Tense=Pres|VerbForm=Fin',\n",
       "   'dep': 'conj',\n",
       "   'head': 1},\n",
       "  {'id': 10,\n",
       "   'start': 54,\n",
       "   'end': 58,\n",
       "   'pos': 'SCONJ',\n",
       "   'tag': 'SCONJ___',\n",
       "   'dep': 'mark',\n",
       "   'head': 12},\n",
       "  {'id': 11,\n",
       "   'start': 59,\n",
       "   'end': 64,\n",
       "   'pos': 'ADJ',\n",
       "   'tag': 'ADJ__Gender=Masc|Number=Sing',\n",
       "   'dep': 'amod',\n",
       "   'head': 12},\n",
       "  {'id': 12,\n",
       "   'start': 65,\n",
       "   'end': 69,\n",
       "   'pos': 'NOUN',\n",
       "   'tag': 'NOUN__Gender=Masc|Number=Sing',\n",
       "   'dep': 'obj',\n",
       "   'head': 9},\n",
       "  {'id': 13,\n",
       "   'start': 70,\n",
       "   'end': 74,\n",
       "   'pos': 'ADP',\n",
       "   'tag': 'ADP__AdpType=Prep',\n",
       "   'dep': 'case',\n",
       "   'head': 15},\n",
       "  {'id': 14,\n",
       "   'start': 75,\n",
       "   'end': 77,\n",
       "   'pos': 'DET',\n",
       "   'tag': 'DET__Definite=Def|Gender=Masc|Number=Sing|PronType=Art',\n",
       "   'dep': 'det',\n",
       "   'head': 15},\n",
       "  {'id': 15,\n",
       "   'start': 78,\n",
       "   'end': 85,\n",
       "   'pos': 'NOUN',\n",
       "   'tag': 'NOUN__Gender=Masc|Number=Sing',\n",
       "   'dep': 'obl',\n",
       "   'head': 9},\n",
       "  {'id': 16,\n",
       "   'start': 86,\n",
       "   'end': 88,\n",
       "   'pos': 'ADP',\n",
       "   'tag': 'ADP__AdpType=Prep',\n",
       "   'dep': 'case',\n",
       "   'head': 17},\n",
       "  {'id': 17,\n",
       "   'start': 89,\n",
       "   'end': 97,\n",
       "   'pos': 'PROPN',\n",
       "   'tag': 'PROPN___',\n",
       "   'dep': 'nmod',\n",
       "   'head': 15},\n",
       "  {'id': 18,\n",
       "   'start': 97,\n",
       "   'end': 98,\n",
       "   'pos': 'PUNCT',\n",
       "   'tag': 'PUNCT__PunctType=Peri',\n",
       "   'dep': 'punct',\n",
       "   'head': 1},\n",
       "  {'id': 19,\n",
       "   'start': 99,\n",
       "   'end': 100,\n",
       "   'pos': 'SPACE',\n",
       "   'tag': '_SP',\n",
       "   'dep': '',\n",
       "   'head': 18},\n",
       "  {'id': 20,\n",
       "   'start': 100,\n",
       "   'end': 106,\n",
       "   'pos': 'PROPN',\n",
       "   'tag': 'PROPN___',\n",
       "   'dep': 'nsubj',\n",
       "   'head': 22},\n",
       "  {'id': 21,\n",
       "   'start': 107,\n",
       "   'end': 109,\n",
       "   'pos': 'ADV',\n",
       "   'tag': 'ADV__Polarity=Neg',\n",
       "   'dep': 'advmod',\n",
       "   'head': 22},\n",
       "  {'id': 22,\n",
       "   'start': 110,\n",
       "   'end': 118,\n",
       "   'pos': 'VERB',\n",
       "   'tag': 'VERB__Mood=Ind|Number=Sing|Person=3|Tense=Fut|VerbForm=Fin',\n",
       "   'dep': 'ROOT',\n",
       "   'head': 22},\n",
       "  {'id': 23,\n",
       "   'start': 119,\n",
       "   'end': 129,\n",
       "   'pos': 'ADV',\n",
       "   'tag': 'ADV___',\n",
       "   'dep': 'advmod',\n",
       "   'head': 22},\n",
       "  {'id': 24,\n",
       "   'start': 130,\n",
       "   'end': 132,\n",
       "   'pos': 'DET',\n",
       "   'tag': 'DET__Definite=Def|Gender=Fem|Number=Sing|PronType=Art',\n",
       "   'dep': 'det',\n",
       "   'head': 25},\n",
       "  {'id': 25,\n",
       "   'start': 133,\n",
       "   'end': 138,\n",
       "   'pos': 'NOUN',\n",
       "   'tag': 'NOUN__Gender=Fem|Number=Sing',\n",
       "   'dep': 'obj',\n",
       "   'head': 22},\n",
       "  {'id': 26,\n",
       "   'start': 139,\n",
       "   'end': 145,\n",
       "   'pos': 'PROPN',\n",
       "   'tag': 'PROPN___',\n",
       "   'dep': 'appos',\n",
       "   'head': 25},\n",
       "  {'id': 27,\n",
       "   'start': 146,\n",
       "   'end': 149,\n",
       "   'pos': 'ADP',\n",
       "   'tag': 'ADP__AdpType=Preppron|Gender=Masc|Number=Sing',\n",
       "   'dep': 'case',\n",
       "   'head': 28},\n",
       "  {'id': 28,\n",
       "   'start': 150,\n",
       "   'end': 157,\n",
       "   'pos': 'NOUN',\n",
       "   'tag': 'NOUN__Gender=Masc|Number=Sing',\n",
       "   'dep': 'nmod',\n",
       "   'head': 25},\n",
       "  {'id': 29,\n",
       "   'start': 158,\n",
       "   'end': 159,\n",
       "   'pos': 'CONJ',\n",
       "   'tag': 'CCONJ___',\n",
       "   'dep': 'cc',\n",
       "   'head': 31},\n",
       "  {'id': 30,\n",
       "   'start': 160,\n",
       "   'end': 162,\n",
       "   'pos': 'PRON',\n",
       "   'tag': 'PRON__Person=3',\n",
       "   'dep': 'obj',\n",
       "   'head': 31},\n",
       "  {'id': 31,\n",
       "   'start': 163,\n",
       "   'end': 170,\n",
       "   'pos': 'VERB',\n",
       "   'tag': 'VERB__Mood=Ind|Number=Sing|Person=3|Tense=Fut|VerbForm=Fin',\n",
       "   'dep': 'conj',\n",
       "   'head': 22},\n",
       "  {'id': 32,\n",
       "   'start': 171,\n",
       "   'end': 175,\n",
       "   'pos': 'SCONJ',\n",
       "   'tag': 'SCONJ___',\n",
       "   'dep': 'mark',\n",
       "   'head': 34},\n",
       "  {'id': 33,\n",
       "   'start': 176,\n",
       "   'end': 181,\n",
       "   'pos': 'ADJ',\n",
       "   'tag': 'ADJ__Gender=Masc|Number=Sing',\n",
       "   'dep': 'amod',\n",
       "   'head': 34},\n",
       "  {'id': 34,\n",
       "   'start': 182,\n",
       "   'end': 186,\n",
       "   'pos': 'NOUN',\n",
       "   'tag': 'NOUN__Gender=Masc|Number=Sing',\n",
       "   'dep': 'obl',\n",
       "   'head': 31},\n",
       "  {'id': 35,\n",
       "   'start': 187,\n",
       "   'end': 189,\n",
       "   'pos': 'ADP',\n",
       "   'tag': 'ADP__AdpType=Prep',\n",
       "   'dep': 'case',\n",
       "   'head': 37},\n",
       "  {'id': 36,\n",
       "   'start': 190,\n",
       "   'end': 192,\n",
       "   'pos': 'DET',\n",
       "   'tag': 'DET__Definite=Def|Gender=Fem|Number=Sing|PronType=Art',\n",
       "   'dep': 'det',\n",
       "   'head': 37},\n",
       "  {'id': 37,\n",
       "   'start': 193,\n",
       "   'end': 201,\n",
       "   'pos': 'PROPN',\n",
       "   'tag': 'PROPN___',\n",
       "   'dep': 'nmod',\n",
       "   'head': 34},\n",
       "  {'id': 38,\n",
       "   'start': 202,\n",
       "   'end': 205,\n",
       "   'pos': 'SCONJ',\n",
       "   'tag': 'SCONJ___',\n",
       "   'dep': 'obj',\n",
       "   'head': 40},\n",
       "  {'id': 39,\n",
       "   'start': 206,\n",
       "   'end': 207,\n",
       "   'pos': 'SPACE',\n",
       "   'tag': '_SP',\n",
       "   'dep': '',\n",
       "   'head': 38},\n",
       "  {'id': 40,\n",
       "   'start': 207,\n",
       "   'end': 215,\n",
       "   'pos': 'VERB',\n",
       "   'tag': 'VERB__Mood=Ind|Number=Sing|Person=3|Tense=Pres|VerbForm=Fin',\n",
       "   'dep': 'acl',\n",
       "   'head': 34},\n",
       "  {'id': 41,\n",
       "   'start': 216,\n",
       "   'end': 217,\n",
       "   'pos': 'CONJ',\n",
       "   'tag': 'CCONJ___',\n",
       "   'dep': 'cc',\n",
       "   'head': 42},\n",
       "  {'id': 42,\n",
       "   'start': 218,\n",
       "   'end': 223,\n",
       "   'pos': 'VERB',\n",
       "   'tag': 'VERB__Mood=Ind|Number=Sing|Person=3|Tense=Pres|VerbForm=Fin',\n",
       "   'dep': 'conj',\n",
       "   'head': 40},\n",
       "  {'id': 43,\n",
       "   'start': 224,\n",
       "   'end': 228,\n",
       "   'pos': 'ADP',\n",
       "   'tag': 'ADP__AdpType=Prep',\n",
       "   'dep': 'case',\n",
       "   'head': 44},\n",
       "  {'id': 44,\n",
       "   'start': 229,\n",
       "   'end': 239,\n",
       "   'pos': 'NOUN',\n",
       "   'tag': 'NOUN__Gender=Fem|Number=Sing',\n",
       "   'dep': 'obl',\n",
       "   'head': 42},\n",
       "  {'id': 45,\n",
       "   'start': 239,\n",
       "   'end': 240,\n",
       "   'pos': 'PUNCT',\n",
       "   'tag': 'PUNCT__PunctType=Peri',\n",
       "   'dep': 'punct',\n",
       "   'head': 22},\n",
       "  {'id': 46,\n",
       "   'start': 241,\n",
       "   'end': 243,\n",
       "   'pos': 'DET',\n",
       "   'tag': 'DET__Definite=Def|Gender=Masc|Number=Sing|PronType=Art',\n",
       "   'dep': 'det',\n",
       "   'head': 47},\n",
       "  {'id': 47,\n",
       "   'start': 244,\n",
       "   'end': 252,\n",
       "   'pos': 'PROPN',\n",
       "   'tag': 'PROPN___',\n",
       "   'dep': 'nsubj',\n",
       "   'head': 49},\n",
       "  {'id': 48,\n",
       "   'start': 253,\n",
       "   'end': 255,\n",
       "   'pos': 'PRON',\n",
       "   'tag': 'PRON__Person=3',\n",
       "   'dep': 'obj',\n",
       "   'head': 49},\n",
       "  {'id': 49,\n",
       "   'start': 256,\n",
       "   'end': 261,\n",
       "   'pos': 'VERB',\n",
       "   'tag': 'VERB__Mood=Ind|Number=Sing|Person=3|Tense=Pres|VerbForm=Fin',\n",
       "   'dep': 'ROOT',\n",
       "   'head': 49},\n",
       "  {'id': 50,\n",
       "   'start': 262,\n",
       "   'end': 272,\n",
       "   'pos': 'ADV',\n",
       "   'tag': 'ADV___',\n",
       "   'dep': 'advmod',\n",
       "   'head': 49},\n",
       "  {'id': 51,\n",
       "   'start': 273,\n",
       "   'end': 275,\n",
       "   'pos': 'DET',\n",
       "   'tag': 'DET__Definite=Def|Gender=Masc|Number=Sing|PronType=Art',\n",
       "   'dep': 'det',\n",
       "   'head': 52},\n",
       "  {'id': 52,\n",
       "   'start': 276,\n",
       "   'end': 285,\n",
       "   'pos': 'NOUN',\n",
       "   'tag': 'NOUN__Gender=Masc|Number=Sing',\n",
       "   'dep': 'obj',\n",
       "   'head': 49},\n",
       "  {'id': 53,\n",
       "   'start': 286,\n",
       "   'end': 288,\n",
       "   'pos': 'ADP',\n",
       "   'tag': 'ADP__AdpType=Prep',\n",
       "   'dep': 'case',\n",
       "   'head': 54},\n",
       "  {'id': 54,\n",
       "   'start': 289,\n",
       "   'end': 300,\n",
       "   'pos': 'NOUN',\n",
       "   'tag': 'NOUN__Gender=Masc|Number=Sing',\n",
       "   'dep': 'nmod',\n",
       "   'head': 52},\n",
       "  {'id': 55,\n",
       "   'start': 301,\n",
       "   'end': 315,\n",
       "   'pos': 'ADJ',\n",
       "   'tag': 'ADJ__Gender=Masc|Number=Sing',\n",
       "   'dep': 'amod',\n",
       "   'head': 54},\n",
       "  {'id': 56,\n",
       "   'start': 316,\n",
       "   'end': 317,\n",
       "   'pos': 'SPACE',\n",
       "   'tag': '_SP',\n",
       "   'dep': '',\n",
       "   'head': 55},\n",
       "  {'id': 57,\n",
       "   'start': 317,\n",
       "   'end': 320,\n",
       "   'pos': 'ADP',\n",
       "   'tag': 'ADP__AdpType=Preppron|Gender=Masc|Number=Sing',\n",
       "   'dep': 'case',\n",
       "   'head': 58},\n",
       "  {'id': 58,\n",
       "   'start': 321,\n",
       "   'end': 328,\n",
       "   'pos': 'PROPN',\n",
       "   'tag': 'PROPN___',\n",
       "   'dep': 'nmod',\n",
       "   'head': 54},\n",
       "  {'id': 59,\n",
       "   'start': 329,\n",
       "   'end': 331,\n",
       "   'pos': 'ADP',\n",
       "   'tag': 'ADP__AdpType=Prep',\n",
       "   'dep': 'case',\n",
       "   'head': 60},\n",
       "  {'id': 60,\n",
       "   'start': 332,\n",
       "   'end': 342,\n",
       "   'pos': 'PROPN',\n",
       "   'tag': 'PROPN___',\n",
       "   'dep': 'flat',\n",
       "   'head': 58},\n",
       "  {'id': 61,\n",
       "   'start': 343,\n",
       "   'end': 344,\n",
       "   'pos': 'CONJ',\n",
       "   'tag': 'CCONJ___',\n",
       "   'dep': 'cc',\n",
       "   'head': 62},\n",
       "  {'id': 62,\n",
       "   'start': 345,\n",
       "   'end': 352,\n",
       "   'pos': 'VERB',\n",
       "   'tag': 'VERB__Mood=Ind|Number=Sing|Person=3|Tense=Pres|VerbForm=Fin',\n",
       "   'dep': 'conj',\n",
       "   'head': 49},\n",
       "  {'id': 63,\n",
       "   'start': 353,\n",
       "   'end': 356,\n",
       "   'pos': 'ADV',\n",
       "   'tag': 'ADV___',\n",
       "   'dep': 'advmod',\n",
       "   'head': 62},\n",
       "  {'id': 64,\n",
       "   'start': 357,\n",
       "   'end': 360,\n",
       "   'pos': 'ADV',\n",
       "   'tag': 'ADV___',\n",
       "   'dep': 'advmod',\n",
       "   'head': 65},\n",
       "  {'id': 65,\n",
       "   'start': 361,\n",
       "   'end': 367,\n",
       "   'pos': 'NOUN',\n",
       "   'tag': 'NOUN__Number=Sing',\n",
       "   'dep': 'obj',\n",
       "   'head': 62},\n",
       "  {'id': 66,\n",
       "   'start': 368,\n",
       "   'end': 370,\n",
       "   'pos': 'ADP',\n",
       "   'tag': 'ADP__AdpType=Prep',\n",
       "   'dep': 'case',\n",
       "   'head': 67},\n",
       "  {'id': 67,\n",
       "   'start': 371,\n",
       "   'end': 376,\n",
       "   'pos': 'NOUN',\n",
       "   'tag': 'NOUN__Gender=Masc|Number=Sing',\n",
       "   'dep': 'nmod',\n",
       "   'head': 65},\n",
       "  {'id': 68,\n",
       "   'start': 377,\n",
       "   'end': 379,\n",
       "   'pos': 'ADP',\n",
       "   'tag': 'ADP__AdpType=Prep',\n",
       "   'dep': 'case',\n",
       "   'head': 69},\n",
       "  {'id': 69,\n",
       "   'start': 380,\n",
       "   'end': 384,\n",
       "   'pos': 'NOUN',\n",
       "   'tag': 'NOUN__AdvType=Tim',\n",
       "   'dep': 'obl',\n",
       "   'head': 62},\n",
       "  {'id': 70,\n",
       "   'start': 384,\n",
       "   'end': 385,\n",
       "   'pos': 'PUNCT',\n",
       "   'tag': 'PUNCT__PunctType=Peri',\n",
       "   'dep': 'punct',\n",
       "   'head': 49}]}"
      ]
     },
     "execution_count": 5,
     "metadata": {},
     "output_type": "execute_result"
    }
   ],
   "source": [
    "doc.to_json()"
   ]
  },
  {
   "cell_type": "markdown",
   "metadata": {
    "Collapsed": "false"
   },
   "source": [
    "Pero también se puede dibujar el grafo con las dependencias:"
   ]
  },
  {
   "cell_type": "code",
   "execution_count": 6,
   "metadata": {
    "Collapsed": "false"
   },
   "outputs": [
    {
     "name": "stderr",
     "output_type": "stream",
     "text": [
      "/home/victor/miniconda3/envs/kschool/lib/python3.7/runpy.py:193: UserWarning: [W011] It looks like you're calling displacy.serve from within a Jupyter notebook or a similar environment. This likely means you're already running a local web server, so there's no need to make displaCy start another one. Instead, you should be able to replace displacy.serve with displacy.render to show the visualization.\n",
      "  \"__main__\", mod_spec)\n"
     ]
    },
    {
     "data": {
      "text/html": [
       "<span class=\"tex2jax_ignore\"><!DOCTYPE html>\n",
       "<html lang=\"es\">\n",
       "    <head>\n",
       "        <title>displaCy</title>\n",
       "    </head>\n",
       "\n",
       "    <body style=\"font-size: 16px; font-family: -apple-system, BlinkMacSystemFont, 'Segoe UI', Helvetica, Arial, sans-serif, 'Apple Color Emoji', 'Segoe UI Emoji', 'Segoe UI Symbol'; padding: 4rem 2rem; direction: ltr\">\n",
       "<figure style=\"margin-bottom: 6rem\">\n",
       "<svg xmlns=\"http://www.w3.org/2000/svg\" xmlns:xlink=\"http://www.w3.org/1999/xlink\" xml:lang=\"es\" id=\"6a5c6e85d5014ad19282216dc5535ab2-0\" class=\"displacy\" width=\"750\" height=\"224.5\" direction=\"ltr\" style=\"max-width: none; height: 224.5px; color: #000000; background: #ffffff; font-family: Arial; direction: ltr\">\n",
       "<text class=\"displacy-token\" fill=\"currentColor\" text-anchor=\"middle\" y=\"134.5\">\n",
       "    <tspan class=\"displacy-word\" fill=\"currentColor\" x=\"50\">La</tspan>\n",
       "    <tspan class=\"displacy-tag\" dy=\"2em\" fill=\"currentColor\" x=\"50\">DET</tspan>\n",
       "</text>\n",
       "\n",
       "<text class=\"displacy-token\" fill=\"currentColor\" text-anchor=\"middle\" y=\"134.5\">\n",
       "    <tspan class=\"displacy-word\" fill=\"currentColor\" x=\"225\">niña</tspan>\n",
       "    <tspan class=\"displacy-tag\" dy=\"2em\" fill=\"currentColor\" x=\"225\">NOUN</tspan>\n",
       "</text>\n",
       "\n",
       "<text class=\"displacy-token\" fill=\"currentColor\" text-anchor=\"middle\" y=\"134.5\">\n",
       "    <tspan class=\"displacy-word\" fill=\"currentColor\" x=\"400\">come</tspan>\n",
       "    <tspan class=\"displacy-tag\" dy=\"2em\" fill=\"currentColor\" x=\"400\">VERB</tspan>\n",
       "</text>\n",
       "\n",
       "<text class=\"displacy-token\" fill=\"currentColor\" text-anchor=\"middle\" y=\"134.5\">\n",
       "    <tspan class=\"displacy-word\" fill=\"currentColor\" x=\"575\">manzanas.</tspan>\n",
       "    <tspan class=\"displacy-tag\" dy=\"2em\" fill=\"currentColor\" x=\"575\">NOUN</tspan>\n",
       "</text>\n",
       "\n",
       "<g class=\"displacy-arrow\">\n",
       "    <path class=\"displacy-arc\" id=\"arrow-6a5c6e85d5014ad19282216dc5535ab2-0-0\" stroke-width=\"2px\" d=\"M70,89.5 C70,2.0 225.0,2.0 225.0,89.5\" fill=\"none\" stroke=\"currentColor\"/>\n",
       "    <text dy=\"1.25em\" style=\"font-size: 0.8em; letter-spacing: 1px\">\n",
       "        <textPath xlink:href=\"#arrow-6a5c6e85d5014ad19282216dc5535ab2-0-0\" class=\"displacy-label\" startOffset=\"50%\" side=\"left\" fill=\"currentColor\" text-anchor=\"middle\">det</textPath>\n",
       "    </text>\n",
       "    <path class=\"displacy-arrowhead\" d=\"M70,91.5 L62,79.5 78,79.5\" fill=\"currentColor\"/>\n",
       "</g>\n",
       "\n",
       "<g class=\"displacy-arrow\">\n",
       "    <path class=\"displacy-arc\" id=\"arrow-6a5c6e85d5014ad19282216dc5535ab2-0-1\" stroke-width=\"2px\" d=\"M245,89.5 C245,2.0 400.0,2.0 400.0,89.5\" fill=\"none\" stroke=\"currentColor\"/>\n",
       "    <text dy=\"1.25em\" style=\"font-size: 0.8em; letter-spacing: 1px\">\n",
       "        <textPath xlink:href=\"#arrow-6a5c6e85d5014ad19282216dc5535ab2-0-1\" class=\"displacy-label\" startOffset=\"50%\" side=\"left\" fill=\"currentColor\" text-anchor=\"middle\">nsubj</textPath>\n",
       "    </text>\n",
       "    <path class=\"displacy-arrowhead\" d=\"M245,91.5 L237,79.5 253,79.5\" fill=\"currentColor\"/>\n",
       "</g>\n",
       "\n",
       "<g class=\"displacy-arrow\">\n",
       "    <path class=\"displacy-arc\" id=\"arrow-6a5c6e85d5014ad19282216dc5535ab2-0-2\" stroke-width=\"2px\" d=\"M420,89.5 C420,2.0 575.0,2.0 575.0,89.5\" fill=\"none\" stroke=\"currentColor\"/>\n",
       "    <text dy=\"1.25em\" style=\"font-size: 0.8em; letter-spacing: 1px\">\n",
       "        <textPath xlink:href=\"#arrow-6a5c6e85d5014ad19282216dc5535ab2-0-2\" class=\"displacy-label\" startOffset=\"50%\" side=\"left\" fill=\"currentColor\" text-anchor=\"middle\">obj</textPath>\n",
       "    </text>\n",
       "    <path class=\"displacy-arrowhead\" d=\"M575.0,91.5 L583.0,79.5 567.0,79.5\" fill=\"currentColor\"/>\n",
       "</g>\n",
       "</svg>\n",
       "</figure>\n",
       "</body>\n",
       "</html></span>"
      ],
      "text/plain": [
       "<IPython.core.display.HTML object>"
      ]
     },
     "metadata": {},
     "output_type": "display_data"
    },
    {
     "name": "stdout",
     "output_type": "stream",
     "text": [
      "\n",
      "Using the 'dep' visualizer\n",
      "Serving on http://0.0.0.0:5000 ...\n",
      "\n",
      "Shutting down server on port 5000.\n"
     ]
    }
   ],
   "source": [
    "from spacy import displacy\n",
    "\n",
    "doc2 = nlp(\"La niña come manzanas.\")\n",
    "\n",
    "displacy.serve(doc2, style=\"dep\")"
   ]
  },
  {
   "cell_type": "markdown",
   "metadata": {
    "Collapsed": "false"
   },
   "source": [
    "O el de las entidades:"
   ]
  },
  {
   "cell_type": "code",
   "execution_count": 7,
   "metadata": {
    "Collapsed": "false"
   },
   "outputs": [
    {
     "name": "stderr",
     "output_type": "stream",
     "text": [
      "/home/victor/miniconda3/envs/kschool/lib/python3.7/runpy.py:193: UserWarning: [W011] It looks like you're calling displacy.serve from within a Jupyter notebook or a similar environment. This likely means you're already running a local web server, so there's no need to make displaCy start another one. Instead, you should be able to replace displacy.serve with displacy.render to show the visualization.\n",
      "  \"__main__\", mod_spec)\n"
     ]
    },
    {
     "data": {
      "text/html": [
       "<span class=\"tex2jax_ignore\"><!DOCTYPE html>\n",
       "<html lang=\"es\">\n",
       "    <head>\n",
       "        <title>displaCy</title>\n",
       "    </head>\n",
       "\n",
       "    <body style=\"font-size: 16px; font-family: -apple-system, BlinkMacSystemFont, 'Segoe UI', Helvetica, Arial, sans-serif, 'Apple Color Emoji', 'Segoe UI Emoji', 'Segoe UI Symbol'; padding: 4rem 2rem; direction: ltr\">\n",
       "<figure style=\"margin-bottom: 6rem\">\n",
       "<div class=\"entities\" style=\"line-height: 2.5; direction: ltr\">España incumple la regla del déficit del euro y queda como único país bajo el control de \n",
       "<mark class=\"entity\" style=\"background: #ff9561; padding: 0.45em 0.6em; margin: 0 0.25em; line-height: 1; border-radius: 0.35em;\">\n",
       "    Bruselas\n",
       "    <span style=\"font-size: 0.8em; font-weight: bold; line-height: 1; border-radius: 0.35em; text-transform: uppercase; vertical-align: middle; margin-left: 0.5rem\">LOC</span>\n",
       "</mark>\n",
       ". </br>\n",
       "<mark class=\"entity\" style=\"background: #ddd; padding: 0.45em 0.6em; margin: 0 0.25em; line-height: 1; border-radius: 0.35em;\">\n",
       "    España\n",
       "    <span style=\"font-size: 0.8em; font-weight: bold; line-height: 1; border-radius: 0.35em; text-transform: uppercase; vertical-align: middle; margin-left: 0.5rem\">PER</span>\n",
       "</mark>\n",
       " no aprobará finalmente la regla europa del déficit y se quedará como único país de la \n",
       "<mark class=\"entity\" style=\"background: #ff9561; padding: 0.45em 0.6em; margin: 0 0.25em; line-height: 1; border-radius: 0.35em;\">\n",
       "    Eurozona\n",
       "    <span style=\"font-size: 0.8em; font-weight: bold; line-height: 1; border-radius: 0.35em; text-transform: uppercase; vertical-align: middle; margin-left: 0.5rem\">LOC</span>\n",
       "</mark>\n",
       " que </br>suspende y sigue bajo vigilancia. \n",
       "<mark class=\"entity\" style=\"background: #ddd; padding: 0.45em 0.6em; margin: 0 0.25em; line-height: 1; border-radius: 0.35em;\">\n",
       "    El Gobierno\n",
       "    <span style=\"font-size: 0.8em; font-weight: bold; line-height: 1; border-radius: 0.35em; text-transform: uppercase; vertical-align: middle; margin-left: 0.5rem\">MISC</span>\n",
       "</mark>\n",
       " se salta finalmente el requisito de saneamiento presupuestario </br>del \n",
       "<mark class=\"entity\" style=\"background: #ddd; padding: 0.45em 0.6em; margin: 0 0.25em; line-height: 1; border-radius: 0.35em;\">\n",
       "    Tratado de Maastricht\n",
       "    <span style=\"font-size: 0.8em; font-weight: bold; line-height: 1; border-radius: 0.35em; text-transform: uppercase; vertical-align: middle; margin-left: 0.5rem\">MISC</span>\n",
       "</mark>\n",
       " y obtiene así más margen de gasto en 2018.</div>\n",
       "</figure>\n",
       "</body>\n",
       "</html></span>"
      ],
      "text/plain": [
       "<IPython.core.display.HTML object>"
      ]
     },
     "metadata": {},
     "output_type": "display_data"
    },
    {
     "name": "stdout",
     "output_type": "stream",
     "text": [
      "\n",
      "Using the 'ent' visualizer\n",
      "Serving on http://0.0.0.0:5000 ...\n",
      "\n",
      "Shutting down server on port 5000.\n"
     ]
    }
   ],
   "source": [
    "from spacy import displacy\n",
    "\n",
    "displacy.serve(doc, style=\"ent\")"
   ]
  },
  {
   "cell_type": "code",
   "execution_count": 9,
   "metadata": {
    "Collapsed": "false"
   },
   "outputs": [
    {
     "name": "stderr",
     "output_type": "stream",
     "text": [
      "/home/victor/miniconda3/envs/kschool/lib/python3.7/runpy.py:193: UserWarning: [W011] It looks like you're calling displacy.serve from within a Jupyter notebook or a similar environment. This likely means you're already running a local web server, so there's no need to make displaCy start another one. Instead, you should be able to replace displacy.serve with displacy.render to show the visualization.\n",
      "  \"__main__\", mod_spec)\n"
     ]
    },
    {
     "data": {
      "text/html": [
       "<span class=\"tex2jax_ignore\"><!DOCTYPE html>\n",
       "<html lang=\"es\">\n",
       "    <head>\n",
       "        <title>displaCy</title>\n",
       "    </head>\n",
       "\n",
       "    <body style=\"font-size: 16px; font-family: -apple-system, BlinkMacSystemFont, 'Segoe UI', Helvetica, Arial, sans-serif, 'Apple Color Emoji', 'Segoe UI Emoji', 'Segoe UI Symbol'; padding: 4rem 2rem; direction: ltr\">\n",
       "<figure style=\"margin-bottom: 6rem\">\n",
       "<div class=\"entities\" style=\"line-height: 2.5; direction: ltr\">Los ciudadanos españoles son conscientes de que esa salida de \n",
       "<mark class=\"entity\" style=\"background: #ff9561; padding: 0.45em 0.6em; margin: 0 0.25em; line-height: 1; border-radius: 0.35em;\">\n",
       "    Reino Unido\n",
       "    <span style=\"font-size: 0.8em; font-weight: bold; line-height: 1; border-radius: 0.35em; text-transform: uppercase; vertical-align: middle; margin-left: 0.5rem\">LOC</span>\n",
       "</mark>\n",
       " no será gratuita. \n",
       "<mark class=\"entity\" style=\"background: #ddd; padding: 0.45em 0.6em; margin: 0 0.25em; line-height: 1; border-radius: 0.35em;\">\n",
       "    Literalmente.\n",
       "    <span style=\"font-size: 0.8em; font-weight: bold; line-height: 1; border-radius: 0.35em; text-transform: uppercase; vertical-align: middle; margin-left: 0.5rem\">MISC</span>\n",
       "</mark>\n",
       " Uno de cada tres teme que el \n",
       "<mark class=\"entity\" style=\"background: #ff9561; padding: 0.45em 0.6em; margin: 0 0.25em; line-height: 1; border-radius: 0.35em;\">\n",
       "    Brexit\n",
       "    <span style=\"font-size: 0.8em; font-weight: bold; line-height: 1; border-radius: 0.35em; text-transform: uppercase; vertical-align: middle; margin-left: 0.5rem\">LOC</span>\n",
       "</mark>\n",
       " le cueste caro a la economía española: el 36,9% prevé consecuencias «muy negativas\n",
       "<mark class=\"entity\" style=\"background: #ddd; padding: 0.45em 0.6em; margin: 0 0.25em; line-height: 1; border-radius: 0.35em;\">\n",
       "    »\n",
       "    <span style=\"font-size: 0.8em; font-weight: bold; line-height: 1; border-radius: 0.35em; text-transform: uppercase; vertical-align: middle; margin-left: 0.5rem\">MISC</span>\n",
       "</mark>\n",
       " para sus bolsillos.</div>\n",
       "</figure>\n",
       "</body>\n",
       "</html></span>"
      ],
      "text/plain": [
       "<IPython.core.display.HTML object>"
      ]
     },
     "metadata": {},
     "output_type": "display_data"
    },
    {
     "name": "stdout",
     "output_type": "stream",
     "text": [
      "\n",
      "Using the 'ent' visualizer\n",
      "Serving on http://0.0.0.0:5000 ...\n",
      "\n",
      "Shutting down server on port 5000.\n"
     ]
    }
   ],
   "source": [
    "texto = \"\"\"Los ciudadanos españoles son conscientes de que esa salida de Reino Unido no será gratuita. Literalmente. Uno de cada tres teme que el Brexit le cueste caro a la economía española: el 36,9% prevé consecuencias «muy negativas» para sus bolsillos.\"\"\"\n",
    "doc = nlp(texto)\n",
    "displacy.serve(doc, style=\"ent\")"
   ]
  },
  {
   "cell_type": "code",
   "execution_count": 10,
   "metadata": {
    "Collapsed": "false"
   },
   "outputs": [],
   "source": [
    "nlp_en = spacy.load(\"en_core_web_md\")"
   ]
  },
  {
   "cell_type": "code",
   "execution_count": 11,
   "metadata": {
    "Collapsed": "false"
   },
   "outputs": [
    {
     "name": "stderr",
     "output_type": "stream",
     "text": [
      "/home/victor/miniconda3/envs/kschool/lib/python3.7/runpy.py:193: UserWarning: [W011] It looks like you're calling displacy.serve from within a Jupyter notebook or a similar environment. This likely means you're already running a local web server, so there's no need to make displaCy start another one. Instead, you should be able to replace displacy.serve with displacy.render to show the visualization.\n",
      "  \"__main__\", mod_spec)\n"
     ]
    },
    {
     "data": {
      "text/html": [
       "<span class=\"tex2jax_ignore\"><!DOCTYPE html>\n",
       "<html lang=\"en\">\n",
       "    <head>\n",
       "        <title>displaCy</title>\n",
       "    </head>\n",
       "\n",
       "    <body style=\"font-size: 16px; font-family: -apple-system, BlinkMacSystemFont, 'Segoe UI', Helvetica, Arial, sans-serif, 'Apple Color Emoji', 'Segoe UI Emoji', 'Segoe UI Symbol'; padding: 4rem 2rem; direction: ltr\">\n",
       "<figure style=\"margin-bottom: 6rem\">\n",
       "<div class=\"entities\" style=\"line-height: 2.5; direction: ltr\">A trade war between the world’s \n",
       "<mark class=\"entity\" style=\"background: #e4e7d2; padding: 0.45em 0.6em; margin: 0 0.25em; line-height: 1; border-radius: 0.35em;\">\n",
       "    two\n",
       "    <span style=\"font-size: 0.8em; font-weight: bold; line-height: 1; border-radius: 0.35em; text-transform: uppercase; vertical-align: middle; margin-left: 0.5rem\">CARDINAL</span>\n",
       "</mark>\n",
       " largest economies officially began on \n",
       "<mark class=\"entity\" style=\"background: #bfe1d9; padding: 0.45em 0.6em; margin: 0 0.25em; line-height: 1; border-radius: 0.35em;\">\n",
       "    Friday\n",
       "    <span style=\"font-size: 0.8em; font-weight: bold; line-height: 1; border-radius: 0.35em; text-transform: uppercase; vertical-align: middle; margin-left: 0.5rem\">DATE</span>\n",
       "</mark>\n",
       " \n",
       "<mark class=\"entity\" style=\"background: #bfe1d9; padding: 0.45em 0.6em; margin: 0 0.25em; line-height: 1; border-radius: 0.35em;\">\n",
       "    morning\n",
       "    <span style=\"font-size: 0.8em; font-weight: bold; line-height: 1; border-radius: 0.35em; text-transform: uppercase; vertical-align: middle; margin-left: 0.5rem\">TIME</span>\n",
       "</mark>\n",
       " as the \n",
       "<mark class=\"entity\" style=\"background: #7aecec; padding: 0.45em 0.6em; margin: 0 0.25em; line-height: 1; border-radius: 0.35em;\">\n",
       "    Trump\n",
       "    <span style=\"font-size: 0.8em; font-weight: bold; line-height: 1; border-radius: 0.35em; text-transform: uppercase; vertical-align: middle; margin-left: 0.5rem\">ORG</span>\n",
       "</mark>\n",
       " </br>administration followed through with its threat to impose tariffs on \n",
       "<mark class=\"entity\" style=\"background: #e4e7d2; padding: 0.45em 0.6em; margin: 0 0.25em; line-height: 1; border-radius: 0.35em;\">\n",
       "    $34 billion\n",
       "    <span style=\"font-size: 0.8em; font-weight: bold; line-height: 1; border-radius: 0.35em; text-transform: uppercase; vertical-align: middle; margin-left: 0.5rem\">MONEY</span>\n",
       "</mark>\n",
       " worth of \n",
       "<mark class=\"entity\" style=\"background: #c887fb; padding: 0.45em 0.6em; margin: 0 0.25em; line-height: 1; border-radius: 0.35em;\">\n",
       "    Chinese\n",
       "    <span style=\"font-size: 0.8em; font-weight: bold; line-height: 1; border-radius: 0.35em; text-transform: uppercase; vertical-align: middle; margin-left: 0.5rem\">NORP</span>\n",
       "</mark>\n",
       " products, a </br>significant escalation of a fight that could hurt companies and consumers in both \n",
       "<mark class=\"entity\" style=\"background: #feca74; padding: 0.45em 0.6em; margin: 0 0.25em; line-height: 1; border-radius: 0.35em;\">\n",
       "    the United States\n",
       "    <span style=\"font-size: 0.8em; font-weight: bold; line-height: 1; border-radius: 0.35em; text-transform: uppercase; vertical-align: middle; margin-left: 0.5rem\">GPE</span>\n",
       "</mark>\n",
       " and \n",
       "<mark class=\"entity\" style=\"background: #feca74; padding: 0.45em 0.6em; margin: 0 0.25em; line-height: 1; border-radius: 0.35em;\">\n",
       "    China\n",
       "    <span style=\"font-size: 0.8em; font-weight: bold; line-height: 1; border-radius: 0.35em; text-transform: uppercase; vertical-align: middle; margin-left: 0.5rem\">GPE</span>\n",
       "</mark>\n",
       ".</div>\n",
       "</figure>\n",
       "</body>\n",
       "</html></span>"
      ],
      "text/plain": [
       "<IPython.core.display.HTML object>"
      ]
     },
     "metadata": {},
     "output_type": "display_data"
    },
    {
     "name": "stdout",
     "output_type": "stream",
     "text": [
      "\n",
      "Using the 'ent' visualizer\n",
      "Serving on http://0.0.0.0:5000 ...\n",
      "\n",
      "Shutting down server on port 5000.\n"
     ]
    }
   ],
   "source": [
    "text = \"\"\"A trade war between the world’s two largest economies officially began on Friday morning as the Trump \n",
    "administration followed through with its threat to impose tariffs on $34 billion worth of Chinese products, a \n",
    "significant escalation of a fight that could hurt companies and consumers in both the United States and China.\"\"\"\n",
    "doc = nlp_en(text)\n",
    "displacy.serve(doc, style=\"ent\")"
   ]
  },
  {
   "cell_type": "markdown",
   "metadata": {
    "Collapsed": "false"
   },
   "source": [
    "## Similitud semántica entre palabras, frases y documentos\n",
    "\n",
    "spaCy permite [calcular la similitud semántica](https://spacy.io/usage/vectors-similarity) entre cualquier par de objetos de tipo `Doc`, `Span` o `Token`. \n",
    "\n",
    "Ojo, La similitud semántica es un concepto algo subjetivo, pero en este caso se puede entender como la probabilidad de que dos palabras aparezcan en los mismos contextos."
   ]
  },
  {
   "cell_type": "code",
   "execution_count": 12,
   "metadata": {
    "Collapsed": "false"
   },
   "outputs": [
    {
     "name": "stdout",
     "output_type": "stream",
     "text": [
      "cats vs dogs 0.83117634\n",
      "research vs development 0.58287174\n",
      "cats vs development 0.104666404\n"
     ]
    }
   ],
   "source": [
    "# analizamos algunas colocaciones en inglés\n",
    "token1, _, token2 = nlp_en(\"cats and dogs\")\n",
    "token3, _, token4 = nlp_en(\"research and development\")\n",
    "\n",
    "# medimos la similitud semántica entre algunos pares\n",
    "print(token1, \"vs\", token2, token1.similarity(token2))\n",
    "print(token3, \"vs\", token4, token3.similarity(token4))\n",
    "print(token1, \"vs\", token4, token1.similarity(token4))"
   ]
  },
  {
   "cell_type": "code",
   "execution_count": 13,
   "metadata": {},
   "outputs": [
    {
     "name": "stdout",
     "output_type": "stream",
     "text": [
      "300\n",
      "[-0.26763    0.029846  -0.3437    -0.54409   -0.49919    0.15928\n",
      " -0.35278   -0.2036     0.23482    1.5671    -0.36458   -0.028713\n",
      " -0.27053    0.2504    -0.18126    0.13453    0.25795    0.93213\n",
      " -0.12841   -0.18505   -0.57597    0.18538   -0.19147   -0.38465\n",
      "  0.21656   -0.4387    -0.27846   -0.41339    0.37859   -0.2199\n",
      " -0.25907   -0.019796  -0.31885    0.12921    0.22168    0.32671\n",
      "  0.46943   -0.81922   -0.20031    0.013561  -0.14663    0.14438\n",
      "  0.0098044 -0.15439    0.21146   -0.28409   -0.4036     0.45355\n",
      "  0.12173   -0.11516   -0.12235   -0.096467  -0.26991    0.028776\n",
      " -0.11307    0.37219   -0.054718  -0.20297   -0.23974    0.86271\n",
      "  0.25602   -0.3064     0.014714  -0.086497  -0.079054  -0.33109\n",
      "  0.54892    0.20076    0.28064    0.037788   0.0076729 -0.0050123\n",
      " -0.11619   -0.23804    0.33027    0.26034   -0.20615   -0.35744\n",
      "  0.54125   -0.3239     0.093441   0.17113   -0.41533    0.13702\n",
      " -0.21765   -0.65442    0.75733    0.359      0.62492    0.019685\n",
      "  0.21156    0.28125    0.22288    0.026787  -0.1019     0.11178\n",
      "  0.17202   -0.20403   -0.01767   -0.34351    0.11926    0.73156\n",
      "  0.11094    0.12576    0.64825   -0.80004    0.62074   -0.38557\n",
      "  0.015614   0.2664     0.18254    0.11678    0.58919   -1.0639\n",
      " -0.29969    0.14827   -0.42925   -0.090766   0.12313   -0.024253\n",
      " -0.21265   -0.10331    0.91988   -1.4097    -0.0542    -0.071201\n",
      "  0.66878   -0.24651   -0.46788   -0.23991   -0.14138   -0.038911\n",
      " -0.48678    0.22975    0.36074    0.13024   -0.40091    0.19673\n",
      "  0.016017   0.30575   -2.1901    -0.55468    0.26955    0.63815\n",
      "  0.42724   -0.070186  -0.11196    0.14079   -0.022228   0.070456\n",
      "  0.17229    0.099383  -0.12258   -0.23416   -0.26525   -0.088991\n",
      " -0.061554   0.26582   -0.53112   -0.4106     0.45211   -0.39669\n",
      " -0.43746   -0.6632    -0.048135   0.23171   -0.37665   -0.38261\n",
      " -0.29286   -0.036613   0.25354    0.49775    0.3359    -0.11285\n",
      " -0.17228    0.85991   -0.34081    0.27959    0.03698    0.61782\n",
      "  0.23739   -0.32049   -0.073717   0.015991  -0.37395   -0.4152\n",
      "  0.049221  -0.3137     0.091128  -0.38258   -0.036783   0.10902\n",
      " -0.38332   -0.74754    0.016473   0.55256   -0.29053   -0.50617\n",
      "  0.83599   -0.31783   -0.77465   -0.0049272 -0.17103   -0.38067\n",
      "  0.44987   -0.12497    0.60263   -0.12026    0.37368   -0.079952\n",
      " -0.15785    0.37684   -0.18679    0.18855   -0.4759    -0.11708\n",
      "  0.36999    0.54134    0.42752    0.038618   0.043483   0.31435\n",
      " -0.24491   -0.67818   -0.33833    0.039218  -0.11964    0.8474\n",
      "  0.09451    0.070523  -0.2806     0.296     -0.17554   -0.41087\n",
      "  0.70748    0.17686    0.043479  -0.31902    0.64584   -0.45268\n",
      " -0.7967     0.099817  -0.1734     0.11404   -0.36809    0.12035\n",
      " -0.048582   0.55945   -0.51508    0.072704   0.18106    0.07802\n",
      " -0.31526    0.38189    0.092801  -0.044227  -0.66154   -0.020428\n",
      "  0.059836  -0.23628   -0.017592  -0.56481   -0.52934   -0.16392\n",
      "  0.077331   0.24583   -0.32195   -0.36811   -0.037208   0.26702\n",
      " -0.57907    0.46457   -0.54636    0.11855    0.092475  -0.10469\n",
      "  0.03319    0.62616   -0.33684    0.045742   0.25089    0.28973\n",
      "  0.060633  -0.4096     0.39198    0.58276    0.496     -0.75881\n",
      "  0.13655    0.21704   -0.37978   -0.54051   -0.22813    0.28393\n",
      " -0.58739    1.0472    -0.13318   -0.07325    0.12991   -0.44999  ]\n"
     ]
    }
   ],
   "source": [
    "print(len(token1.vector))\n",
    "print(token1.vector)"
   ]
  },
  {
   "cell_type": "code",
   "execution_count": 14,
   "metadata": {
    "Collapsed": "false"
   },
   "outputs": [
    {
     "name": "stdout",
     "output_type": "stream",
     "text": [
      "perros vs gatos 0.91161263\n",
      "investigación vs desarrollo 0.7544771\n",
      "perros vs desarrollo 0.346996\n"
     ]
    }
   ],
   "source": [
    "# ¿qué tal funciona en español?\n",
    "token1, _, token2 = nlp(\"perros y gatos\")\n",
    "token3, _, token4 = nlp(\"investigación y desarrollo\")\n",
    "\n",
    "# medimos la similitud semántica entre algunos pares\n",
    "print(token1, \"vs\", token2, token1.similarity(token2))\n",
    "print(token3, \"vs\", token4, token3.similarity(token4))\n",
    "print(token1, \"vs\", token4, token1.similarity(token4))"
   ]
  },
  {
   "cell_type": "code",
   "execution_count": 15,
   "metadata": {},
   "outputs": [
    {
     "name": "stdout",
     "output_type": "stream",
     "text": [
      "50\n",
      "[ 0.420254 -0.660067 -1.545925 -0.965525  0.193724  0.209681 -0.156194\n",
      " -0.229921  0.124098  1.055757 -0.269885  0.190388 -0.264621 -0.94836\n",
      "  2.631071  0.358889 -0.037149  0.886237 -0.692818  0.749372  0.640033\n",
      "  0.619242 -0.67352  -0.917047 -1.32988   0.793474 -0.156792  1.475654\n",
      "  1.30683   1.04421   0.703801  0.171951 -0.888882 -0.08564   0.421157\n",
      "  0.705225  0.958168 -0.150986 -0.034823 -0.701907  0.285303 -0.074543\n",
      "  0.872631 -1.354706  0.659176  0.177278 -0.078645 -0.654988 -0.652848\n",
      " -0.31781 ]\n"
     ]
    }
   ],
   "source": [
    "print(len(token1.vector))\n",
    "print(token1.vector)"
   ]
  },
  {
   "cell_type": "markdown",
   "metadata": {},
   "source": [
    "Vamos a vectorizar varias frases de ejemplo en inglés para calcular la similitud semántica con respecto a otras. \n",
    "\n",
    "Fíjate en cómo estos vectores parecen capturar significados y conceptos,y cómo la distancia coincide con nuestra intuición, a pesar de que apenas hay solapamiento de palabras. "
   ]
  },
  {
   "cell_type": "code",
   "execution_count": 16,
   "metadata": {},
   "outputs": [],
   "source": [
    "frases = [\n",
    "    \"I love pasta and pizza.\",\n",
    "    \"I hate sushi and ramen.\",\n",
    "    \"My sister was born in Germany.\",\n",
    "    \"I have a Korean car.\",\n",
    "]\n",
    "\n",
    "frases_vectorizadas = [nlp_en(frase) for frase in frases]"
   ]
  },
  {
   "cell_type": "code",
   "execution_count": 17,
   "metadata": {},
   "outputs": [
    {
     "name": "stdout",
     "output_type": "stream",
     "text": [
      "I love pasta and pizza. 0.8560554114609663\n",
      "I hate sushi and ramen. 0.7644050662415457\n",
      "My sister was born in Germany. 0.7375718723746174\n",
      "I have a Korean car. 0.7845382470421277\n"
     ]
    }
   ],
   "source": [
    "doc = nlp_en(\"Italian food is my favorite.\")\n",
    "\n",
    "for f in frases_vectorizadas:\n",
    "    print(f, doc.similarity(f))"
   ]
  },
  {
   "cell_type": "code",
   "execution_count": 18,
   "metadata": {},
   "outputs": [
    {
     "name": "stdout",
     "output_type": "stream",
     "text": [
      "I love pasta and pizza. 0.7063524068100758\n",
      "I hate sushi and ramen. 0.7007410015334966\n",
      "My sister was born in Germany. 0.7032681278395458\n",
      "I have a Korean car. 0.9011200009458885\n"
     ]
    }
   ],
   "source": [
    "doc = nlp_en(\"I own a Hyundai.\")\n",
    "\n",
    "for f in frases_vectorizadas:\n",
    "    print(f, doc.similarity(f))"
   ]
  }
 ],
 "metadata": {
  "kernelspec": {
   "display_name": "Python 3",
   "language": "python",
   "name": "python3"
  },
  "language_info": {
   "codemirror_mode": {
    "name": "ipython",
    "version": 3
   },
   "file_extension": ".py",
   "mimetype": "text/x-python",
   "name": "python",
   "nbconvert_exporter": "python",
   "pygments_lexer": "ipython3",
   "version": "3.7.7"
  }
 },
 "nbformat": 4,
 "nbformat_minor": 4
}
