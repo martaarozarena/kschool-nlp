{
 "cells": [
  {
   "cell_type": "code",
   "execution_count": null,
   "metadata": {
    "Collapsed": "false"
   },
   "outputs": [],
   "source": [
    "# install the requirements\n",
    "!pip install spacy\n",
    "!python -m spacy download es_core_news_md\n",
    "!python -m spacy download en_core_web_md"
   ]
  },
  {
   "cell_type": "markdown",
   "metadata": {
    "Collapsed": "false"
   },
   "source": [
    "# `spacy`: el *Ruby on Rails* del PLN\n",
    "\n",
    "[spacy](http://www.spacy.io/) es una librería de procesamiento del lenguaje natural, robusta, rápida, fácil de instalar y utilizar e integrable con [otras librerías de *NLP* y de *deep learning*](https://spacy.io/usage/facts-figures#section-other-libraries). \n",
    "\n",
    "Tiene modelos entrenados en varios idiomas y permite realizar las [típicas tareas](https://spacy.io/usage/facts-figures) de segmentación por oraciones, tokenizanción, análisis morfológico, extracción de entidades y análisis de opinión."
   ]
  },
  {
   "cell_type": "markdown",
   "metadata": {
    "Collapsed": "false"
   },
   "source": [
    "Una vez instalados los modelos, podemos importarlos fácilmente:"
   ]
  },
  {
   "cell_type": "code",
   "execution_count": 1,
   "metadata": {
    "Collapsed": "false"
   },
   "outputs": [],
   "source": [
    "import spacy\n",
    "\n",
    "# cargamos el modelo entrenado en español\n",
    "nlp = spacy.load(\"es_core_news_md\")"
   ]
  },
  {
   "cell_type": "code",
   "execution_count": 2,
   "metadata": {
    "Collapsed": "false"
   },
   "outputs": [],
   "source": [
    "texto = \"\"\"España incumple la regla del déficit del euro y queda como único país bajo el control de Bruselas. \n",
    "España no aprobará finalmente la regla europa del déficit y se quedará como único país de la Eurozona que \n",
    "suspende y sigue bajo vigilancia. El Gobierno se salta finalmente el requisito de saneamiento presupuestario \n",
    "del Tratado de Maastricht y obtiene así más margen de gasto en 2018.\"\"\"\n",
    "\n",
    "# y procesamos el texto\n",
    "doc = nlp(texto)"
   ]
  },
  {
   "cell_type": "markdown",
   "metadata": {
    "Collapsed": "false"
   },
   "source": [
    "## Procesando oraciones, palabras y entidades\n",
    "\n",
    "Podemos iterar fácilmente sobre la lista de oraciones y recorrer los tokens para acceder a su información morfo-sintáctica:"
   ]
  },
  {
   "cell_type": "code",
   "execution_count": 3,
   "metadata": {
    "Collapsed": "false"
   },
   "outputs": [
    {
     "name": "stdout",
     "output_type": "stream",
     "text": [
      "Oración: España incumple la regla del déficit del euro y queda como único país bajo el control de Bruselas. \n",
      "\n",
      "España/España => etiqueta PROPN/PROPN___ y dependencia nsubj\n",
      "incumple/incumplir => etiqueta VERB/VERB__Mood=Ind|Number=Sing|Person=3|Tense=Pres|VerbForm=Fin y dependencia ROOT\n",
      "la/lo => etiqueta DET/DET__Definite=Def|Gender=Fem|Number=Sing|PronType=Art y dependencia det\n",
      "regla/reglar => etiqueta NOUN/NOUN__Gender=Fem|Number=Sing y dependencia obj\n",
      "del/del => etiqueta ADP/ADP__AdpType=Preppron|Gender=Masc|Number=Sing y dependencia case\n",
      "déficit/déficit => etiqueta NOUN/NOUN__Gender=Masc|Number=Sing y dependencia nmod\n",
      "del/del => etiqueta ADP/ADP__AdpType=Preppron|Gender=Masc|Number=Sing y dependencia case\n",
      "euro/euro => etiqueta NOUN/NOUN__Gender=Masc|Number=Sing y dependencia nmod\n",
      "y/y => etiqueta CONJ/CCONJ___ y dependencia cc\n",
      "queda/quedo => etiqueta VERB/VERB__Mood=Ind|Number=Sing|Person=3|Tense=Pres|VerbForm=Fin y dependencia conj\n",
      "como/comer => etiqueta SCONJ/SCONJ___ y dependencia mark\n",
      "único/único => etiqueta ADJ/ADJ__Gender=Masc|Number=Sing y dependencia amod\n",
      "país/país => etiqueta NOUN/NOUN__Gender=Masc|Number=Sing y dependencia obj\n",
      "bajo/bajar => etiqueta ADP/ADP__AdpType=Prep y dependencia case\n",
      "el/el => etiqueta DET/DET__Definite=Def|Gender=Masc|Number=Sing|PronType=Art y dependencia det\n",
      "control/control => etiqueta NOUN/NOUN__Gender=Masc|Number=Sing y dependencia obl\n",
      "de/de => etiqueta ADP/ADP__AdpType=Prep y dependencia case\n",
      "Bruselas/Bruselas => etiqueta PROPN/PROPN___ y dependencia nmod\n",
      "./. => etiqueta PUNCT/PUNCT__PunctType=Peri y dependencia punct\n",
      "\n",
      "/\n",
      " => etiqueta SPACE/_SP y dependencia \n",
      "Oración: España no aprobará finalmente la regla europa del déficit y se quedará como único país de la Eurozona que \n",
      "suspende y sigue bajo vigilancia.\n",
      "España/España => etiqueta PROPN/PROPN___ y dependencia nsubj\n",
      "no/no => etiqueta ADV/ADV__Polarity=Neg y dependencia advmod\n",
      "aprobará/aprobar => etiqueta VERB/VERB__Mood=Ind|Number=Sing|Person=3|Tense=Fut|VerbForm=Fin y dependencia ROOT\n",
      "finalmente/finalmente => etiqueta ADV/ADV___ y dependencia advmod\n",
      "la/lo => etiqueta DET/DET__Definite=Def|Gender=Fem|Number=Sing|PronType=Art y dependencia det\n",
      "regla/reglar => etiqueta NOUN/NOUN__Gender=Fem|Number=Sing y dependencia obj\n",
      "europa/europa => etiqueta PROPN/PROPN___ y dependencia appos\n",
      "del/del => etiqueta ADP/ADP__AdpType=Preppron|Gender=Masc|Number=Sing y dependencia case\n",
      "déficit/déficit => etiqueta NOUN/NOUN__Gender=Masc|Number=Sing y dependencia nmod\n",
      "y/y => etiqueta CONJ/CCONJ___ y dependencia cc\n",
      "se/se => etiqueta PRON/PRON__Person=3 y dependencia obj\n",
      "quedará/quedar => etiqueta VERB/VERB__Mood=Ind|Number=Sing|Person=3|Tense=Fut|VerbForm=Fin y dependencia conj\n",
      "como/comer => etiqueta SCONJ/SCONJ___ y dependencia mark\n",
      "único/único => etiqueta ADJ/ADJ__Gender=Masc|Number=Sing y dependencia amod\n",
      "país/país => etiqueta NOUN/NOUN__Gender=Masc|Number=Sing y dependencia obl\n",
      "de/de => etiqueta ADP/ADP__AdpType=Prep y dependencia case\n",
      "la/lo => etiqueta DET/DET__Definite=Def|Gender=Fem|Number=Sing|PronType=Art y dependencia det\n",
      "Eurozona/Eurozona => etiqueta PROPN/PROPN___ y dependencia nmod\n",
      "que/que => etiqueta SCONJ/SCONJ___ y dependencia obj\n",
      "\n",
      "/\n",
      " => etiqueta SPACE/_SP y dependencia \n",
      "suspende/suspender => etiqueta VERB/VERB__Mood=Ind|Number=Sing|Person=3|Tense=Pres|VerbForm=Fin y dependencia acl\n",
      "y/y => etiqueta CONJ/CCONJ___ y dependencia cc\n",
      "sigue/seguir => etiqueta VERB/VERB__Mood=Ind|Number=Sing|Person=3|Tense=Pres|VerbForm=Fin y dependencia conj\n",
      "bajo/bajar => etiqueta ADP/ADP__AdpType=Prep y dependencia case\n",
      "vigilancia/vigilancia => etiqueta NOUN/NOUN__Gender=Fem|Number=Sing y dependencia obl\n",
      "./. => etiqueta PUNCT/PUNCT__PunctType=Peri y dependencia punct\n",
      "Oración: El Gobierno se salta finalmente el requisito de saneamiento presupuestario \n",
      "del Tratado de Maastricht y obtiene así más margen de gasto en 2018.\n",
      "El/El => etiqueta DET/DET__Definite=Def|Gender=Masc|Number=Sing|PronType=Art y dependencia det\n",
      "Gobierno/Gobierno => etiqueta PROPN/PROPN___ y dependencia nsubj\n",
      "se/se => etiqueta PRON/PRON__Person=3 y dependencia obj\n",
      "salta/saltar => etiqueta VERB/VERB__Mood=Ind|Number=Sing|Person=3|Tense=Pres|VerbForm=Fin y dependencia ROOT\n",
      "finalmente/finalmente => etiqueta ADV/ADV___ y dependencia advmod\n",
      "el/el => etiqueta DET/DET__Definite=Def|Gender=Masc|Number=Sing|PronType=Art y dependencia det\n",
      "requisito/requerir => etiqueta NOUN/NOUN__Gender=Masc|Number=Sing y dependencia obj\n",
      "de/de => etiqueta ADP/ADP__AdpType=Prep y dependencia case\n",
      "saneamiento/saneamiento => etiqueta NOUN/NOUN__Gender=Masc|Number=Sing y dependencia nmod\n",
      "presupuestario/presupuestario => etiqueta ADJ/ADJ__Gender=Masc|Number=Sing y dependencia amod\n",
      "\n",
      "/\n",
      " => etiqueta SPACE/_SP y dependencia \n",
      "del/del => etiqueta ADP/ADP__AdpType=Preppron|Gender=Masc|Number=Sing y dependencia case\n",
      "Tratado/Tratado => etiqueta PROPN/PROPN___ y dependencia nmod\n",
      "de/de => etiqueta ADP/ADP__AdpType=Prep y dependencia case\n",
      "Maastricht/Maastricht => etiqueta PROPN/PROPN___ y dependencia flat\n",
      "y/y => etiqueta CONJ/CCONJ___ y dependencia cc\n",
      "obtiene/obtener => etiqueta VERB/VERB__Mood=Ind|Number=Sing|Person=3|Tense=Pres|VerbForm=Fin y dependencia conj\n",
      "así/asir => etiqueta ADV/ADV___ y dependencia advmod\n",
      "más/más => etiqueta ADV/ADV___ y dependencia advmod\n",
      "margen/margen => etiqueta NOUN/NOUN__Number=Sing y dependencia obj\n",
      "de/de => etiqueta ADP/ADP__AdpType=Prep y dependencia case\n",
      "gasto/gastar => etiqueta NOUN/NOUN__Gender=Masc|Number=Sing y dependencia nmod\n",
      "en/en => etiqueta ADP/ADP__AdpType=Prep y dependencia case\n",
      "2018/2018 => etiqueta NOUN/NOUN__AdvType=Tim y dependencia obl\n",
      "./. => etiqueta PUNCT/PUNCT__PunctType=Peri y dependencia punct\n"
     ]
    }
   ],
   "source": [
    "for sentence in doc.sents:\n",
    "    print(\"Oración: {}\".format(sentence))\n",
    "    for token in sentence:\n",
    "        print(\n",
    "            \"{}/{} => etiqueta {}/{} y dependencia {}\".format(\n",
    "                token, token.lemma_, token.pos_, token.tag_, token.dep_\n",
    "            )\n",
    "        )"
   ]
  },
  {
   "cell_type": "markdown",
   "metadata": {
    "Collapsed": "false"
   },
   "source": [
    "El elemeno `doc` tiene una propiedad `.ents` que permite acceder a las entidades nombradas que hayan sido localizadas:"
   ]
  },
  {
   "cell_type": "code",
   "execution_count": 4,
   "metadata": {
    "Collapsed": "false"
   },
   "outputs": [
    {
     "name": "stdout",
     "output_type": "stream",
     "text": [
      "(Bruselas, España, Eurozona, El Gobierno, Tratado de Maastricht)\n",
      "Bruselas es de tipo LOC\n",
      "España es de tipo PER\n",
      "Eurozona es de tipo LOC\n",
      "El Gobierno es de tipo MISC\n",
      "Tratado de Maastricht es de tipo MISC\n"
     ]
    }
   ],
   "source": [
    "print(doc.ents)\n",
    "\n",
    "for entity in doc.ents:\n",
    "    print(\"{} es de tipo {}\".format(entity, entity.label_))"
   ]
  },
  {
   "cell_type": "markdown",
   "metadata": {
    "Collapsed": "false"
   },
   "source": [
    "## Visualizando árboles de dependencias y entidades\n",
    "\n",
    "Podemos acceder al árbol completo a través del método `.print_tree()`:"
   ]
  },
  {
   "cell_type": "code",
   "execution_count": null,
   "metadata": {
    "Collapsed": "false"
   },
   "outputs": [],
   "source": [
    "doc.to_json()"
   ]
  },
  {
   "cell_type": "markdown",
   "metadata": {
    "Collapsed": "false"
   },
   "source": [
    "Pero también se puede dibujar el grafo con las dependencias:"
   ]
  },
  {
   "cell_type": "code",
   "execution_count": 6,
   "metadata": {
    "Collapsed": "false"
   },
   "outputs": [
    {
     "name": "stderr",
     "output_type": "stream",
     "text": [
      "/home/victor/miniconda3/envs/kschool/lib/python3.7/runpy.py:193: UserWarning: [W011] It looks like you're calling displacy.serve from within a Jupyter notebook or a similar environment. This likely means you're already running a local web server, so there's no need to make displaCy start another one. Instead, you should be able to replace displacy.serve with displacy.render to show the visualization.\n",
      "  \"__main__\", mod_spec)\n"
     ]
    },
    {
     "data": {
      "text/html": [
       "<span class=\"tex2jax_ignore\"><!DOCTYPE html>\n",
       "<html lang=\"es\">\n",
       "    <head>\n",
       "        <title>displaCy</title>\n",
       "    </head>\n",
       "\n",
       "    <body style=\"font-size: 16px; font-family: -apple-system, BlinkMacSystemFont, 'Segoe UI', Helvetica, Arial, sans-serif, 'Apple Color Emoji', 'Segoe UI Emoji', 'Segoe UI Symbol'; padding: 4rem 2rem; direction: ltr\">\n",
       "<figure style=\"margin-bottom: 6rem\">\n",
       "<svg xmlns=\"http://www.w3.org/2000/svg\" xmlns:xlink=\"http://www.w3.org/1999/xlink\" xml:lang=\"es\" id=\"ce9df07235294b089e907c75748a7ca8-0\" class=\"displacy\" width=\"750\" height=\"224.5\" direction=\"ltr\" style=\"max-width: none; height: 224.5px; color: #000000; background: #ffffff; font-family: Arial; direction: ltr\">\n",
       "<text class=\"displacy-token\" fill=\"currentColor\" text-anchor=\"middle\" y=\"134.5\">\n",
       "    <tspan class=\"displacy-word\" fill=\"currentColor\" x=\"50\">La</tspan>\n",
       "    <tspan class=\"displacy-tag\" dy=\"2em\" fill=\"currentColor\" x=\"50\">DET</tspan>\n",
       "</text>\n",
       "\n",
       "<text class=\"displacy-token\" fill=\"currentColor\" text-anchor=\"middle\" y=\"134.5\">\n",
       "    <tspan class=\"displacy-word\" fill=\"currentColor\" x=\"225\">niña</tspan>\n",
       "    <tspan class=\"displacy-tag\" dy=\"2em\" fill=\"currentColor\" x=\"225\">NOUN</tspan>\n",
       "</text>\n",
       "\n",
       "<text class=\"displacy-token\" fill=\"currentColor\" text-anchor=\"middle\" y=\"134.5\">\n",
       "    <tspan class=\"displacy-word\" fill=\"currentColor\" x=\"400\">come</tspan>\n",
       "    <tspan class=\"displacy-tag\" dy=\"2em\" fill=\"currentColor\" x=\"400\">VERB</tspan>\n",
       "</text>\n",
       "\n",
       "<text class=\"displacy-token\" fill=\"currentColor\" text-anchor=\"middle\" y=\"134.5\">\n",
       "    <tspan class=\"displacy-word\" fill=\"currentColor\" x=\"575\">manzanas.</tspan>\n",
       "    <tspan class=\"displacy-tag\" dy=\"2em\" fill=\"currentColor\" x=\"575\">NOUN</tspan>\n",
       "</text>\n",
       "\n",
       "<g class=\"displacy-arrow\">\n",
       "    <path class=\"displacy-arc\" id=\"arrow-ce9df07235294b089e907c75748a7ca8-0-0\" stroke-width=\"2px\" d=\"M70,89.5 C70,2.0 225.0,2.0 225.0,89.5\" fill=\"none\" stroke=\"currentColor\"/>\n",
       "    <text dy=\"1.25em\" style=\"font-size: 0.8em; letter-spacing: 1px\">\n",
       "        <textPath xlink:href=\"#arrow-ce9df07235294b089e907c75748a7ca8-0-0\" class=\"displacy-label\" startOffset=\"50%\" side=\"left\" fill=\"currentColor\" text-anchor=\"middle\">det</textPath>\n",
       "    </text>\n",
       "    <path class=\"displacy-arrowhead\" d=\"M70,91.5 L62,79.5 78,79.5\" fill=\"currentColor\"/>\n",
       "</g>\n",
       "\n",
       "<g class=\"displacy-arrow\">\n",
       "    <path class=\"displacy-arc\" id=\"arrow-ce9df07235294b089e907c75748a7ca8-0-1\" stroke-width=\"2px\" d=\"M245,89.5 C245,2.0 400.0,2.0 400.0,89.5\" fill=\"none\" stroke=\"currentColor\"/>\n",
       "    <text dy=\"1.25em\" style=\"font-size: 0.8em; letter-spacing: 1px\">\n",
       "        <textPath xlink:href=\"#arrow-ce9df07235294b089e907c75748a7ca8-0-1\" class=\"displacy-label\" startOffset=\"50%\" side=\"left\" fill=\"currentColor\" text-anchor=\"middle\">nsubj</textPath>\n",
       "    </text>\n",
       "    <path class=\"displacy-arrowhead\" d=\"M245,91.5 L237,79.5 253,79.5\" fill=\"currentColor\"/>\n",
       "</g>\n",
       "\n",
       "<g class=\"displacy-arrow\">\n",
       "    <path class=\"displacy-arc\" id=\"arrow-ce9df07235294b089e907c75748a7ca8-0-2\" stroke-width=\"2px\" d=\"M420,89.5 C420,2.0 575.0,2.0 575.0,89.5\" fill=\"none\" stroke=\"currentColor\"/>\n",
       "    <text dy=\"1.25em\" style=\"font-size: 0.8em; letter-spacing: 1px\">\n",
       "        <textPath xlink:href=\"#arrow-ce9df07235294b089e907c75748a7ca8-0-2\" class=\"displacy-label\" startOffset=\"50%\" side=\"left\" fill=\"currentColor\" text-anchor=\"middle\">obj</textPath>\n",
       "    </text>\n",
       "    <path class=\"displacy-arrowhead\" d=\"M575.0,91.5 L583.0,79.5 567.0,79.5\" fill=\"currentColor\"/>\n",
       "</g>\n",
       "</svg>\n",
       "</figure>\n",
       "</body>\n",
       "</html></span>"
      ],
      "text/plain": [
       "<IPython.core.display.HTML object>"
      ]
     },
     "metadata": {},
     "output_type": "display_data"
    },
    {
     "name": "stdout",
     "output_type": "stream",
     "text": [
      "\n",
      "Using the 'dep' visualizer\n",
      "Serving on http://0.0.0.0:5000 ...\n",
      "\n",
      "Shutting down server on port 5000.\n"
     ]
    }
   ],
   "source": [
    "from spacy import displacy\n",
    "\n",
    "doc2 = nlp(\"La niña come manzanas.\")\n",
    "\n",
    "displacy.serve(doc2, style=\"dep\")"
   ]
  },
  {
   "cell_type": "markdown",
   "metadata": {
    "Collapsed": "false"
   },
   "source": [
    "O el de las entidades:"
   ]
  },
  {
   "cell_type": "code",
   "execution_count": 5,
   "metadata": {
    "Collapsed": "false"
   },
   "outputs": [
    {
     "name": "stderr",
     "output_type": "stream",
     "text": [
      "/home/victor/miniconda3/envs/kschool/lib/python3.7/runpy.py:193: UserWarning: [W011] It looks like you're calling displacy.serve from within a Jupyter notebook or a similar environment. This likely means you're already running a local web server, so there's no need to make displaCy start another one. Instead, you should be able to replace displacy.serve with displacy.render to show the visualization.\n",
      "  \"__main__\", mod_spec)\n"
     ]
    },
    {
     "data": {
      "text/html": [
       "<span class=\"tex2jax_ignore\"><!DOCTYPE html>\n",
       "<html lang=\"es\">\n",
       "    <head>\n",
       "        <title>displaCy</title>\n",
       "    </head>\n",
       "\n",
       "    <body style=\"font-size: 16px; font-family: -apple-system, BlinkMacSystemFont, 'Segoe UI', Helvetica, Arial, sans-serif, 'Apple Color Emoji', 'Segoe UI Emoji', 'Segoe UI Symbol'; padding: 4rem 2rem; direction: ltr\">\n",
       "<figure style=\"margin-bottom: 6rem\">\n",
       "<div class=\"entities\" style=\"line-height: 2.5; direction: ltr\">España incumple la regla del déficit del euro y queda como único país bajo el control de \n",
       "<mark class=\"entity\" style=\"background: #ff9561; padding: 0.45em 0.6em; margin: 0 0.25em; line-height: 1; border-radius: 0.35em;\">\n",
       "    Bruselas\n",
       "    <span style=\"font-size: 0.8em; font-weight: bold; line-height: 1; border-radius: 0.35em; text-transform: uppercase; vertical-align: middle; margin-left: 0.5rem\">LOC</span>\n",
       "</mark>\n",
       ". </br>\n",
       "<mark class=\"entity\" style=\"background: #ddd; padding: 0.45em 0.6em; margin: 0 0.25em; line-height: 1; border-radius: 0.35em;\">\n",
       "    España\n",
       "    <span style=\"font-size: 0.8em; font-weight: bold; line-height: 1; border-radius: 0.35em; text-transform: uppercase; vertical-align: middle; margin-left: 0.5rem\">PER</span>\n",
       "</mark>\n",
       " no aprobará finalmente la regla europa del déficit y se quedará como único país de la \n",
       "<mark class=\"entity\" style=\"background: #ff9561; padding: 0.45em 0.6em; margin: 0 0.25em; line-height: 1; border-radius: 0.35em;\">\n",
       "    Eurozona\n",
       "    <span style=\"font-size: 0.8em; font-weight: bold; line-height: 1; border-radius: 0.35em; text-transform: uppercase; vertical-align: middle; margin-left: 0.5rem\">LOC</span>\n",
       "</mark>\n",
       " que </br>suspende y sigue bajo vigilancia. \n",
       "<mark class=\"entity\" style=\"background: #ddd; padding: 0.45em 0.6em; margin: 0 0.25em; line-height: 1; border-radius: 0.35em;\">\n",
       "    El Gobierno\n",
       "    <span style=\"font-size: 0.8em; font-weight: bold; line-height: 1; border-radius: 0.35em; text-transform: uppercase; vertical-align: middle; margin-left: 0.5rem\">MISC</span>\n",
       "</mark>\n",
       " se salta finalmente el requisito de saneamiento presupuestario </br>del \n",
       "<mark class=\"entity\" style=\"background: #ddd; padding: 0.45em 0.6em; margin: 0 0.25em; line-height: 1; border-radius: 0.35em;\">\n",
       "    Tratado de Maastricht\n",
       "    <span style=\"font-size: 0.8em; font-weight: bold; line-height: 1; border-radius: 0.35em; text-transform: uppercase; vertical-align: middle; margin-left: 0.5rem\">MISC</span>\n",
       "</mark>\n",
       " y obtiene así más margen de gasto en 2018.</div>\n",
       "</figure>\n",
       "</body>\n",
       "</html></span>"
      ],
      "text/plain": [
       "<IPython.core.display.HTML object>"
      ]
     },
     "metadata": {},
     "output_type": "display_data"
    },
    {
     "name": "stdout",
     "output_type": "stream",
     "text": [
      "\n",
      "Using the 'ent' visualizer\n",
      "Serving on http://0.0.0.0:5000 ...\n",
      "\n",
      "Shutting down server on port 5000.\n"
     ]
    }
   ],
   "source": [
    "from spacy import displacy\n",
    "\n",
    "displacy.serve(doc, style=\"ent\")"
   ]
  },
  {
   "cell_type": "code",
   "execution_count": null,
   "metadata": {
    "Collapsed": "false"
   },
   "outputs": [],
   "source": [
    "texto = \"\"\"Los ciudadanos españoles son conscientes de que esa salida de Reino Unido no será gratuita. Literalmente. Uno de cada tres teme que el Brexit le cueste caro a la economía española: el 36,9% prevé consecuencias «muy negativas» para sus bolsillos.\"\"\"\n",
    "doc = nlp(texto)\n",
    "displacy.serve(doc, style=\"ent\")"
   ]
  },
  {
   "cell_type": "code",
   "execution_count": 7,
   "metadata": {
    "Collapsed": "false"
   },
   "outputs": [],
   "source": [
    "nlp_en = spacy.load(\"en_core_web_md\")"
   ]
  },
  {
   "cell_type": "code",
   "execution_count": 8,
   "metadata": {
    "Collapsed": "false"
   },
   "outputs": [
    {
     "name": "stderr",
     "output_type": "stream",
     "text": [
      "/home/victor/miniconda3/envs/kschool/lib/python3.7/runpy.py:193: UserWarning: [W011] It looks like you're calling displacy.serve from within a Jupyter notebook or a similar environment. This likely means you're already running a local web server, so there's no need to make displaCy start another one. Instead, you should be able to replace displacy.serve with displacy.render to show the visualization.\n",
      "  \"__main__\", mod_spec)\n"
     ]
    },
    {
     "data": {
      "text/html": [
       "<span class=\"tex2jax_ignore\"><!DOCTYPE html>\n",
       "<html lang=\"en\">\n",
       "    <head>\n",
       "        <title>displaCy</title>\n",
       "    </head>\n",
       "\n",
       "    <body style=\"font-size: 16px; font-family: -apple-system, BlinkMacSystemFont, 'Segoe UI', Helvetica, Arial, sans-serif, 'Apple Color Emoji', 'Segoe UI Emoji', 'Segoe UI Symbol'; padding: 4rem 2rem; direction: ltr\">\n",
       "<figure style=\"margin-bottom: 6rem\">\n",
       "<div class=\"entities\" style=\"line-height: 2.5; direction: ltr\">A trade war between the world’s \n",
       "<mark class=\"entity\" style=\"background: #e4e7d2; padding: 0.45em 0.6em; margin: 0 0.25em; line-height: 1; border-radius: 0.35em;\">\n",
       "    two\n",
       "    <span style=\"font-size: 0.8em; font-weight: bold; line-height: 1; border-radius: 0.35em; text-transform: uppercase; vertical-align: middle; margin-left: 0.5rem\">CARDINAL</span>\n",
       "</mark>\n",
       " largest economies officially began on \n",
       "<mark class=\"entity\" style=\"background: #bfe1d9; padding: 0.45em 0.6em; margin: 0 0.25em; line-height: 1; border-radius: 0.35em;\">\n",
       "    Friday\n",
       "    <span style=\"font-size: 0.8em; font-weight: bold; line-height: 1; border-radius: 0.35em; text-transform: uppercase; vertical-align: middle; margin-left: 0.5rem\">DATE</span>\n",
       "</mark>\n",
       " \n",
       "<mark class=\"entity\" style=\"background: #bfe1d9; padding: 0.45em 0.6em; margin: 0 0.25em; line-height: 1; border-radius: 0.35em;\">\n",
       "    morning\n",
       "    <span style=\"font-size: 0.8em; font-weight: bold; line-height: 1; border-radius: 0.35em; text-transform: uppercase; vertical-align: middle; margin-left: 0.5rem\">TIME</span>\n",
       "</mark>\n",
       " as the \n",
       "<mark class=\"entity\" style=\"background: #7aecec; padding: 0.45em 0.6em; margin: 0 0.25em; line-height: 1; border-radius: 0.35em;\">\n",
       "    Trump\n",
       "    <span style=\"font-size: 0.8em; font-weight: bold; line-height: 1; border-radius: 0.35em; text-transform: uppercase; vertical-align: middle; margin-left: 0.5rem\">ORG</span>\n",
       "</mark>\n",
       " </br>administration followed through with its threat to impose tariffs on \n",
       "<mark class=\"entity\" style=\"background: #e4e7d2; padding: 0.45em 0.6em; margin: 0 0.25em; line-height: 1; border-radius: 0.35em;\">\n",
       "    $34 billion\n",
       "    <span style=\"font-size: 0.8em; font-weight: bold; line-height: 1; border-radius: 0.35em; text-transform: uppercase; vertical-align: middle; margin-left: 0.5rem\">MONEY</span>\n",
       "</mark>\n",
       " worth of \n",
       "<mark class=\"entity\" style=\"background: #c887fb; padding: 0.45em 0.6em; margin: 0 0.25em; line-height: 1; border-radius: 0.35em;\">\n",
       "    Chinese\n",
       "    <span style=\"font-size: 0.8em; font-weight: bold; line-height: 1; border-radius: 0.35em; text-transform: uppercase; vertical-align: middle; margin-left: 0.5rem\">NORP</span>\n",
       "</mark>\n",
       " products, a </br>significant escalation of a fight that could hurt companies and consumers in both \n",
       "<mark class=\"entity\" style=\"background: #feca74; padding: 0.45em 0.6em; margin: 0 0.25em; line-height: 1; border-radius: 0.35em;\">\n",
       "    the United States\n",
       "    <span style=\"font-size: 0.8em; font-weight: bold; line-height: 1; border-radius: 0.35em; text-transform: uppercase; vertical-align: middle; margin-left: 0.5rem\">GPE</span>\n",
       "</mark>\n",
       " and \n",
       "<mark class=\"entity\" style=\"background: #feca74; padding: 0.45em 0.6em; margin: 0 0.25em; line-height: 1; border-radius: 0.35em;\">\n",
       "    China\n",
       "    <span style=\"font-size: 0.8em; font-weight: bold; line-height: 1; border-radius: 0.35em; text-transform: uppercase; vertical-align: middle; margin-left: 0.5rem\">GPE</span>\n",
       "</mark>\n",
       ".</div>\n",
       "</figure>\n",
       "</body>\n",
       "</html></span>"
      ],
      "text/plain": [
       "<IPython.core.display.HTML object>"
      ]
     },
     "metadata": {},
     "output_type": "display_data"
    },
    {
     "name": "stdout",
     "output_type": "stream",
     "text": [
      "\n",
      "Using the 'ent' visualizer\n",
      "Serving on http://0.0.0.0:5000 ...\n",
      "\n",
      "Shutting down server on port 5000.\n"
     ]
    }
   ],
   "source": [
    "text = \"\"\"A trade war between the world’s two largest economies officially began on Friday morning as the Trump \n",
    "administration followed through with its threat to impose tariffs on $34 billion worth of Chinese products, a \n",
    "significant escalation of a fight that could hurt companies and consumers in both the United States and China.\"\"\"\n",
    "doc = nlp_en(text)\n",
    "displacy.serve(doc, style=\"ent\")"
   ]
  },
  {
   "cell_type": "markdown",
   "metadata": {
    "Collapsed": "false"
   },
   "source": [
    "## Similitud semántica entre palabras, frases y documentos\n",
    "\n",
    "spaCy permite [calcular la similitud semántica](https://spacy.io/usage/vectors-similarity) entre cualquier par de objetos de tipo `Doc`, `Span` o `Token`. \n",
    "\n",
    "Ojo, La similitud semántica es un concepto algo subjetivo, pero en este caso se puede entender como la probabilidad de que dos palabras aparezcan en los mismos contextos."
   ]
  },
  {
   "cell_type": "code",
   "execution_count": 9,
   "metadata": {
    "Collapsed": "false"
   },
   "outputs": [
    {
     "name": "stdout",
     "output_type": "stream",
     "text": [
      "cats vs dogs 0.83117634\n",
      "research vs development 0.58287174\n",
      "cats vs development 0.104666404\n"
     ]
    }
   ],
   "source": [
    "# analizamos algunas colocaciones en inglés\n",
    "token1, _, token2 = nlp_en(\"cats and dogs\")\n",
    "token3, _, token4 = nlp_en(\"research and development\")\n",
    "\n",
    "# medimos la similitud semántica entre algunos pares\n",
    "print(token1, \"vs\", token2, token1.similarity(token2))\n",
    "print(token3, \"vs\", token4, token3.similarity(token4))\n",
    "print(token1, \"vs\", token4, token1.similarity(token4))"
   ]
  },
  {
   "cell_type": "code",
   "execution_count": 10,
   "metadata": {
    "Collapsed": "false"
   },
   "outputs": [
    {
     "name": "stdout",
     "output_type": "stream",
     "text": [
      "perros vs gatos 0.91161263\n",
      "investigación vs desarrollo 0.7544771\n",
      "perros vs desarrollo 0.346996\n"
     ]
    }
   ],
   "source": [
    "# ¿qué tal funciona en español?\n",
    "token1, _, token2 = nlp(\"perros y gatos\")\n",
    "token3, _, token4 = nlp(\"investigación y desarrollo\")\n",
    "\n",
    "# medimos la similitud semántica entre algunos pares\n",
    "print(token1, \"vs\", token2, token1.similarity(token2))\n",
    "print(token3, \"vs\", token4, token3.similarity(token4))\n",
    "print(token1, \"vs\", token4, token1.similarity(token4))"
   ]
  },
  {
   "cell_type": "code",
   "execution_count": 11,
   "metadata": {},
   "outputs": [
    {
     "data": {
      "text/plain": [
       "array([ 0.420254, -0.660067, -1.545925, -0.965525,  0.193724,  0.209681,\n",
       "       -0.156194, -0.229921,  0.124098,  1.055757, -0.269885,  0.190388,\n",
       "       -0.264621, -0.94836 ,  2.631071,  0.358889, -0.037149,  0.886237,\n",
       "       -0.692818,  0.749372,  0.640033,  0.619242, -0.67352 , -0.917047,\n",
       "       -1.32988 ,  0.793474, -0.156792,  1.475654,  1.30683 ,  1.04421 ,\n",
       "        0.703801,  0.171951, -0.888882, -0.08564 ,  0.421157,  0.705225,\n",
       "        0.958168, -0.150986, -0.034823, -0.701907,  0.285303, -0.074543,\n",
       "        0.872631, -1.354706,  0.659176,  0.177278, -0.078645, -0.654988,\n",
       "       -0.652848, -0.31781 ], dtype=float32)"
      ]
     },
     "execution_count": 11,
     "metadata": {},
     "output_type": "execute_result"
    }
   ],
   "source": [
    "token1.vector"
   ]
  }
 ],
 "metadata": {
  "kernelspec": {
   "display_name": "Python 3",
   "language": "python",
   "name": "python3"
  },
  "language_info": {
   "codemirror_mode": {
    "name": "ipython",
    "version": 3
   },
   "file_extension": ".py",
   "mimetype": "text/x-python",
   "name": "python",
   "nbconvert_exporter": "python",
   "pygments_lexer": "ipython3",
   "version": "3.7.7"
  }
 },
 "nbformat": 4,
 "nbformat_minor": 4
}
