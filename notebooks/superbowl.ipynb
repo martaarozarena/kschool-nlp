{
 "cells": [
  {
   "cell_type": "markdown",
   "metadata": {
    "Collapsed": "false"
   },
   "source": [
    "# Superbowl 2017\n",
    "\n",
    "\n",
    "## tl;dr\n",
    "\n",
    "Vamos a analizar una colección de tweets en inglés publicados durante un partido de fútbol.\n",
    "\n",
    "\n",
    "## Contexto\n",
    "\n",
    "El pasado 5 de febrero se celebró la [51ª edición de la Superbowl](https://en.wikipedia.org/wiki/Super_Bowl_LI), la gran final del campeonato de fútbol americano de la NFL. El partido enfrentó a los [New England Patriots](https://en.wikipedia.org/wiki/New_England_Patriots) (los favoritos, los de la costa este, con [Tom Brady](https://en.wikipedia.org/wiki/Tom_Brady) a la cabeza) contra los [Atlanta Falcons](https://en.wikipedia.org/wiki/Atlanta_Falcons) (los aspirantes, los del Sur, encabezados por [Matt Ryan](https://en.wikipedia.org/wiki/Matt_Ryan_(American_football))).\n",
    "\n",
    "![](http://bandageek.com/wp-content/uploads/2017/02/patriots-vs-falcons.jpg)\n",
    "\n",
    "Como cualquier final, el resultado *a priori* era impredecible y a un partido podía ganar cualquiera. Pero el del otro día fue un encuentro inolvidable porque comenzó con el equipo débil barriendo al favorito y con un Brady que no daba una. Al descanso, el marcador reflejaba un inesperado **3 - 28** y todo indicaba que los Falcons ganarían su primer anillo.\n",
    "\n",
    "![](https://pbs.twimg.com/media/C38X-Z-VUAA-UAV.jpg)\n",
    "\n",
    "Pero, en la segunda mitad, Brady resurgió... y su equipo comenzó a anotar una y otra vez... con los Falcons ko. Los Patriots consiguieron darle la vuelta al marcador y vencieron por **34 - 28** su quinta Superbowl. Brady fue elegido MVP del encuentro y aclamado como el mejor quaterback de la historia.\n",
    "\n",
    "![](http://images.complex.com/complex/images/c_limit,w_680/f_auto,fl_lossy,pg_1,q_auto/d36dh2j3micwoszunssh/tom-brady-new-england-patriots-vince-lombardi-trophy-super-bowl-li)\n",
    "\n",
    "Como os imaginaréis, tanto vaivén nos va a dar mucho juego a la hora de analizar un corpus de mensajes de Twitter. Durante la primera mitad, es previsible que encuentres mensajes a favor de Atlanta y burlas a New England y a sus jugadores, que no estaban muy finos. Pero al final del partido, con la remontada, las opiniones y las burlas cambiarán de sentido.\n",
    "\n",
    "Como tanto Tom Brady como su entrenador, Bill Belichick, habían declarado públicamente sus preferencias por Donald Trump durante las elecciones a la presidencia, es muy probable que encuentres mensajes al respecto y menciones a demócratas y republicanos.\n",
    "\n",
    "Por último, durante el *half time show* actuó Lady Gaga, que también levanta pasiones a su manera, así que es probable que haya menciones a otras *reinas* de la música y comparaciones con actuaciones pasadas.\n",
    "\n",
    "![](http://www.billboard.com/files/styles/article_main_image/public/media/12-lady-gaga-super-bowl-feb-2017-billboard-1548.jpg)\n",
    "\n",
    "\n",
    "## Los datos\n",
    "\n",
    "El fichero `2017-superbowl-tweets.tsv` ubicado en el directorio `data/` contiene una muestra, ordenada cronológicamente, de mensajes escritos en inglés publicados antes, durante y después del partido. Todos los mensajes contienen el hashtag `#superbowl`. Hazte una copia de este fichero en el directorio `notebooks` de tu espacio personal.\n",
    "\n",
    "El fichero es en realidad una tabla con cuatro columnas separadas por tabuladores, que contiene líneas (una por tweet) con el siguiente formato:\n",
    "\n",
    "    id_del_tweet fecha_y_hora_de_publicación autor_del_tweet texto_del_mensaje\n",
    "\n",
    "\n",
    "La siguiente celda te permite abrir el fichero para lectura y cargar los mensajes en la lista `tweets`. Modifica el código para que la ruta apunte a la copia local de tu fichero."
   ]
  },
  {
   "cell_type": "code",
   "execution_count": 1,
   "metadata": {
    "Collapsed": "false"
   },
   "outputs": [
    {
     "name": "stdout",
     "output_type": "stream",
     "text": [
      "total 4418228\n",
      "-rw-r--r-- 1 victor victor    1668705 jun  1 19:38 2017-twitter-messages.tsv\n",
      "-rw-r--r-- 1 victor victor    3289245 jun  1 19:38 2018-twitter-messages.tsv\n",
      "-rw-r--r-- 1 victor victor     166795 jun  1 19:38 alicia.txt\n",
      "-rw-rw-r-- 1 victor victor 4514856724 ene 18  2019 cc.en.300.vec\n",
      "-rw-r--r-- 1 victor victor       3706 jun  1 19:38 es-ancora.map\n",
      "-rw-r--r-- 1 victor victor    2301663 jun  1 19:38 fortunatayjacinta.txt\n",
      "-rw-r--r-- 1 victor victor    1964385 jun  1 19:38 sherlockholmes.txt\n"
     ]
    }
   ],
   "source": [
    "# !gunzip ../data/2017-twitter-messages.tsv.gz\n",
    "!ls -l ../data"
   ]
  },
  {
   "cell_type": "code",
   "execution_count": 2,
   "metadata": {
    "Collapsed": "false"
   },
   "outputs": [],
   "source": [
    "tweets = []\n",
    "RUTA = \"../data/2017-twitter-messages.tsv\"\n",
    "for line in open(RUTA).readlines():\n",
    "    tweets.append(line.split(\"\\t\"))"
   ]
  },
  {
   "cell_type": "code",
   "execution_count": null,
   "metadata": {
    "Collapsed": "false"
   },
   "outputs": [],
   "source": [
    "# en Windows, asegúrate de que abres el fichero de texto forzando la codificación para que sea Unicode\n",
    "import codecs\n",
    "\n",
    "tweets = []\n",
    "RUTA = \"../data/2017-twitter-messages.tsv\"\n",
    "\n",
    "with codecs.open(RUTA, \"r\", \"utf-8\") as f:\n",
    "    for line in f.readlines():\n",
    "        tweets.append(line.split(\"\\t\"))"
   ]
  },
  {
   "cell_type": "markdown",
   "metadata": {
    "Collapsed": "false"
   },
   "source": [
    "Fíjate en la estructura de la lista: se trata de una lista de tuplas con cuatro elementos. Puedes comprobar si el fichero se ha cargado como debe en la siguiente celda:"
   ]
  },
  {
   "cell_type": "code",
   "execution_count": 3,
   "metadata": {
    "Collapsed": "false"
   },
   "outputs": [
    {
     "name": "stdout",
     "output_type": "stream",
     "text": [
      "id => 828498211253997568\n",
      "fecha => 2017-02-06 06:59:00\n",
      "autor => ceebrie\n",
      "texto => Honestly WHAT a SuperBowl performance ✨\n",
      "\n"
     ]
    }
   ],
   "source": [
    "ultimo_tweet = tweets[-1]\n",
    "print(\"id =>\", ultimo_tweet[0])\n",
    "print(\"fecha =>\", ultimo_tweet[1])\n",
    "print(\"autor =>\", ultimo_tweet[2])\n",
    "print(\"texto =>\", ultimo_tweet[3])"
   ]
  },
  {
   "cell_type": "markdown",
   "metadata": {
    "Collapsed": "false"
   },
   "source": [
    "## Al lío\n",
    "\n",
    "A partir de aquí puedes hacer distintos tipos de análisis. Añade tantas celdas como necesites para intentar, por ejemplo:\n",
    "\n",
    "- calcular distintas estadísticas de la colección: número de mensajes, longitud de los mensajes, presencia de hashtags y emojis, etc.\n",
    "- número de menciones a usuarios, frecuencia de aparición de menciones, frecuencia de autores\n",
    "- calcular estadísticas sobre usuarios: menciones, mensajes por usuario, etc.\n",
    "- calcular estadísticas sobre las hashtags\n",
    "- calcular estadísticas sobre las URLs presentes en los mensajes\n",
    "- calcular estadísticas sobre los emojis y emoticonos de los mensajes\n",
    "- extraer automáticamente las entidades nombradas que aparecen en los mensajes y su frecuencia\n",
    "- procesar los mensajes para extraer y analizar opiniones: calcular la subjetividad y la polaridad de los mensajes\n",
    "- extraer las entidades nombradas que levantan más pasiones, quiénes son los más queridos y los más odiados, atendiendo a la polaridad de los mensajes\n",
    "- comprobar si la polaridad de alguna entidad varía radicalmente a medida que avanza el partido\n",
    "- cualquier otra cosa que se te ocurra :-P\n",
    "\n"
   ]
  },
  {
   "cell_type": "code",
   "execution_count": 4,
   "metadata": {
    "Collapsed": "false"
   },
   "outputs": [
    {
     "name": "stdout",
     "output_type": "stream",
     "text": [
      "2020-06-07 12:49:18,688 loading file /home/victor/.flair/models/en-ner-fast-conll03-v0.4.pt\n",
      "2020-06-07 12:49:21,263 loading file /home/victor/.flair/models/sentiment-en-mix-distillbert.pt\n"
     ]
    },
    {
     "data": {
      "application/vnd.jupyter.widget-view+json": {
       "model_id": "ac33b9a22e8c4b39997060307d2762b9",
       "version_major": 2,
       "version_minor": 0
      },
      "text/plain": [
       "HBox(children=(FloatProgress(value=0.0, description='Downloading', max=442.0, style=ProgressStyle(description_…"
      ]
     },
     "metadata": {},
     "output_type": "display_data"
    },
    {
     "name": "stdout",
     "output_type": "stream",
     "text": [
      "\n"
     ]
    },
    {
     "data": {
      "application/vnd.jupyter.widget-view+json": {
       "model_id": "8db0d3734b86442bb0883fc3b0814435",
       "version_major": 2,
       "version_minor": 0
      },
      "text/plain": [
       "HBox(children=(FloatProgress(value=0.0, description='Downloading', max=231508.0, style=ProgressStyle(descripti…"
      ]
     },
     "metadata": {},
     "output_type": "display_data"
    },
    {
     "name": "stdout",
     "output_type": "stream",
     "text": [
      "\n"
     ]
    }
   ],
   "source": [
    "# escribe tu código aquí\n",
    "from flair.data import Sentence\n",
    "from flair.models import SequenceTagger\n",
    "from flair.models import TextClassifier\n",
    "\n",
    "ner_analyzer = SequenceTagger.load(\"ner-fast\")\n",
    "sentiment_classifier = TextClassifier.load(\"en-sentiment\")"
   ]
  },
  {
   "cell_type": "code",
   "execution_count": 6,
   "metadata": {},
   "outputs": [
    {
     "name": "stdout",
     "output_type": "stream",
     "text": [
      "RT @espn: Tom Brady's mom has been battling illness. His dad has only been to one game this year.\n",
      "Span [3,4]: \"Tom Brady's\"   [− Labels: PER (0.9444)] [NEGATIVE (0.6147)] \n",
      "\n",
      "RT @funder: Trump Hosted Event for Putin Sr Advisor at Mar a Lago in 2010\n",
      "Span [7]: \"Putin\"   [− Labels: PER (0.8309)] [NEGATIVE (0.6335)] \n",
      "\n",
      "I love the idea of #superbowl - not come across it before! Here's a #ArtsandCrafts superb owl by Norman Jewson from… https://t.co/DJVXhIMxd0\n",
      "Span [19,20]: \"Norman Jewson\"   [− Labels: PER (0.9104)] [POSITIVE (0.9545)] \n",
      "\n",
      "Let's finish strong! Our final #Superbowl Prop Challenge is upon us.\n",
      "Span [1]: \"Let's\"   [− Labels: PER (0.5936)] [POSITIVE (0.9998)] \n",
      "\n",
      "RT @SikhProf: Many reasons to cheer for the Falcons today, but here's the biggest one. Tom Brady is friends with and endorsed Donald Trump.…\n",
      "Span [16,17]: \"Tom Brady\"   [− Labels: PER (0.994)] [NEGATIVE (0.8182)] \n",
      "\n",
      "RT @SikhProf: Many reasons to cheer for the Falcons today, but here's the biggest one. Tom Brady is friends with and endorsed Donald Trump.…\n",
      "Span [23,24]: \"Donald Trump.…\n",
      "\"   [− Labels: PER (0.9641)] [NEGATIVE (0.8182)] \n",
      "\n",
      "Aye everyone, I hope you're having an amazing day and while I'm not a sport fanatic, I hope people hyped for #SuperBowl enjoy\n",
      "Span [12]: \"I'm\"   [− Labels: PER (0.8781)] [POSITIVE (0.9839)] \n",
      "\n",
      "I don't give a shit about #football but I'm not about to pass up free wings and tacos. Where the #superbowl parties at\n",
      "Span [9]: \"I'm\"   [− Labels: PER (0.4312)] [POSITIVE (0.9967)] \n",
      "\n",
      "RT @IAMMGraham: Plus, what could be a more Trumpian sports moment than gutless Goodell forced to hand the #SuperBowl trophy to Tom \"4-Game…\n",
      "Span [14]: \"Goodell\"   [− Labels: PER (0.9996)] [NEGATIVE (0.6294)] \n",
      "\n",
      "RT @IAMMGraham: Plus, what could be a more Trumpian sports moment than gutless Goodell forced to hand the #SuperBowl trophy to Tom \"4-Game…\n",
      "Span [22]: \"Tom\"   [− Labels: PER (0.8408)] [NEGATIVE (0.6294)] \n",
      "\n",
      "RT @TheFactsOfShade: Today's the day!! Are y'all ready for Lady Gaga to SLAY the #SuperBowl for what's being called the \"biggest performanc…\n",
      "Span [11]: \"Gaga\"   [− Labels: PER (0.2583)] [POSITIVE (0.9772)] \n",
      "\n",
      "Working on #SuperBowl story. That's Julian Edelman with old college roommates, now @walnutathletics coaches… https://t.co/rwgPIa9C0c\n",
      "Span [5,6,7]: \"That's Julian Edelman\"   [− Labels: PER (0.8219)] [POSITIVE (0.9963)] \n",
      "\n",
      "RT @OnlyInBOS: Tom Brady's daughter is ready...#SuperBowl https://t.co/HfkRjA2Et5\n",
      "Span [3,4]: \"Tom Brady's\"   [− Labels: PER (0.8918)] [POSITIVE (0.9857)] \n",
      "\n",
      "RT @nascarcasm: Good luck Matt Ryan,\n",
      "Span [5,6]: \"Matt Ryan,\n",
      "\"   [− Labels: PER (0.959)] [POSITIVE (0.9425)] \n",
      "\n",
      "RT @OldWrestlingPic: Football player turned Hall of Fame wrestler, Ernie Ladd. @Chargers #SuperBowl2017 #SuperBowl #SuperBowlSunday https:/…\n",
      "Span [10,11,12]: \"Ernie Ladd. @Chargers\"   [− Labels: PER (0.92)] [POSITIVE (0.9119)] \n",
      "\n",
      "#SuperBowl  prediction: both teams will keep giving each other the ball to try to get out of having to talk to Donald Trump on the phone.\n",
      "Span [22,23]: \"Donald Trump\"   [− Labels: PER (0.9781)] [POSITIVE (0.7686)] \n",
      "\n"
     ]
    }
   ],
   "source": [
    "# iteramos sobre un subconjunto de los mensajes\n",
    "for tweet in tweets[600:800]:\n",
    "    if len(tweet) == 4:\n",
    "        # comprobamos que la línea está bien formada, había problemillas con algunas filas\n",
    "        sentence = Sentence(tweet[3])\n",
    "\n",
    "        # pasamos el reconocedor de entidades\n",
    "        ner_analyzer.predict(sentence)\n",
    "\n",
    "        # pasamos el clasificador de sentimiento\n",
    "        sentiment_classifier.predict(sentence)\n",
    "\n",
    "        # iteramos por las entidades reconocidas\n",
    "        for entity in sentence.get_spans(\"ner\"):\n",
    "            if entity.tag == \"PER\":\n",
    "                # si la entidad es persona, imprimimos el mensaje, la entidad y el sentimiento\n",
    "                print(tweet[3][:-1])\n",
    "                print(entity, sentence.labels, \"\\n\")"
   ]
  }
 ],
 "metadata": {
  "kernelspec": {
   "display_name": "Python 3",
   "language": "python",
   "name": "python3"
  },
  "language_info": {
   "codemirror_mode": {
    "name": "ipython",
    "version": 3
   },
   "file_extension": ".py",
   "mimetype": "text/x-python",
   "name": "python",
   "nbconvert_exporter": "python",
   "pygments_lexer": "ipython3",
   "version": "3.7.7"
  }
 },
 "nbformat": 4,
 "nbformat_minor": 4
}
